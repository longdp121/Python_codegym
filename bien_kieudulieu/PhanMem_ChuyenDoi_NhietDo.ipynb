{
 "cells": [
  {
   "cell_type": "code",
   "execution_count": 2,
   "id": "ed535dab",
   "metadata": {},
   "outputs": [
    {
     "name": "stdout",
     "output_type": "stream",
     "text": [
      "Enter temperature:86.53\n",
      "Enter unit:F\n",
      "*************\n",
      "Temperature in celsius: 30.29 C\n"
     ]
    }
   ],
   "source": [
    "num = float((input(\"Enter temperature:\")))  #Khai bao gia tri\n",
    "uni = str(input(\"Enter unit:\")) #Khai bao don vi\n",
    "\n",
    "print(\"*************\")\n",
    "if uni == \"F\":\n",
    "    C = ((num - 32)*(5/9))\n",
    "    print(\"Temperature in celsius:\", round(C,2), \"C\")\n",
    "elif uni == \"C\":\n",
    "    F = ((num * 1.8) + 32)\n",
    "    print(\"Temperature in fahrenheit\", round(F,2), \"F\")\n",
    "else:\n",
    "    print(\"Nhap sai\")"
   ]
  },
  {
   "cell_type": "code",
   "execution_count": null,
   "id": "1da03e47",
   "metadata": {},
   "outputs": [],
   "source": []
  }
 ],
 "metadata": {
  "kernelspec": {
   "display_name": "Python 3 (ipykernel)",
   "language": "python",
   "name": "python3"
  },
  "language_info": {
   "codemirror_mode": {
    "name": "ipython",
    "version": 3
   },
   "file_extension": ".py",
   "mimetype": "text/x-python",
   "name": "python",
   "nbconvert_exporter": "python",
   "pygments_lexer": "ipython3",
   "version": "3.9.6"
  }
 },
 "nbformat": 4,
 "nbformat_minor": 5
}
