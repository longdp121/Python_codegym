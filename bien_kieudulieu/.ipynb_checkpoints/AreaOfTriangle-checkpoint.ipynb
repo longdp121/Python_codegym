{
 "cells": [
  {
   "cell_type": "code",
   "execution_count": 4,
   "id": "a5d6be29",
   "metadata": {},
   "outputs": [
    {
     "name": "stdout",
     "output_type": "stream",
     "text": [
      "Do dai canh a =1\n",
      "Do dai canh b =2\n",
      "Do dai canh c =3\n",
      "Dien tich hinh tam giac = 18.973665961010276\n"
     ]
    }
   ],
   "source": [
    "a = float(input(\"Do dai canh a =\"))\n",
    "b = float(input(\"Do dai canh b =\"))\n",
    "c = float(input(\"Do dai canh c =\"))\n",
    "\n",
    "P = a + b +c\n",
    "S = (P*(P - a)*(P - b)*(P - c))**(1/2)\n",
    "\n",
    "print(\"Dien tich hinh tam giac =\", S)\n"
   ]
  }
 ],
 "metadata": {
  "kernelspec": {
   "display_name": "Python 3 (ipykernel)",
   "language": "python",
   "name": "python3"
  },
  "language_info": {
   "codemirror_mode": {
    "name": "ipython",
    "version": 3
   },
   "file_extension": ".py",
   "mimetype": "text/x-python",
   "name": "python",
   "nbconvert_exporter": "python",
   "pygments_lexer": "ipython3",
   "version": "3.9.6"
  }
 },
 "nbformat": 4,
 "nbformat_minor": 5
}
