{
 "cells": [
  {
   "cell_type": "code",
   "execution_count": null,
   "id": "a42fa0c7",
   "metadata": {},
   "outputs": [],
   "source": [
    "\"\"\"\n",
    "Tạo class có tên SoHoc gồm có các thuộc tính và phương thức sau:\n",
    "+ Thuộc tính: number1, number2\n",
    "+ Phương thức:\n",
    "- Phương thức tạo __init()__\n",
    "- input_info(): dùng để nhập 2 số number1, number2\n",
    "- print_info(): dùng để hiển thị number1, number2\n",
    "- addition(): dùng để cộng number1, number2\n",
    "- subtract(): trừ number1, number2\n",
    "- multi(): dùng để nhân number1, number2\n",
    "- division(): dùng để chia number1, number2.\n",
    "\n",
    "Sau khi tạo class, khởi tạo một object SoHoc và in ra kết quả tính toán từ các hàm thực hiện phép tính\n",
    "\"\"\""
   ]
  },
  {
   "cell_type": "code",
   "execution_count": 35,
   "id": "f807f588",
   "metadata": {},
   "outputs": [
    {
     "name": "stdout",
     "output_type": "stream",
     "text": [
      "Enter number 1: 6\n",
      "Enter number 2: 2\n"
     ]
    },
    {
     "data": {
      "text/plain": [
       "4"
      ]
     },
     "execution_count": 35,
     "metadata": {},
     "output_type": "execute_result"
    }
   ],
   "source": [
    "class SoHoc:\n",
    "    def __init__(self):\n",
    "        self.num1 = None\n",
    "        self.num2 = None\n",
    "        #pass\n",
    "    \n",
    "    def input_info(self):\n",
    "        self.num1 = int(input(\"Enter number 1: \"))\n",
    "        self.num2 = int(input(\"Enter number 2: \"))\n",
    "        #return self.num1, self.num2\n",
    "   \n",
    "    def print_info(self):\n",
    "        print(self.num1)\n",
    "        print(self.num2)\n",
    "        #print(self.input_info())\n",
    "    \n",
    "    def addtion(self):\n",
    "        tong = self.num1 + self.num2\n",
    "        return tong\n",
    "    \n",
    "    def subtract(self):\n",
    "        hieu = self.num1 - self.num2\n",
    "        return hieu\n",
    "    \n",
    "    def multi(self):\n",
    "        tich = self.num1 * self.num2\n",
    "        return tich\n",
    "    \n",
    "    def division(self):\n",
    "        thuong = self.num1 // self.num2\n",
    "        return thuong\n",
    "    \n",
    "    def result(self):\n",
    "        result = [self.addtion(), self.subtract(), self.multi(), self.division()]\n",
    "        return result\n",
    "    \n",
    "n = SoHoc()\n",
    "n.input_info()\n",
    "#n.print_info()\n",
    "'''\n",
    "chia = n.division()\n",
    "cong = n.addtion()\n",
    "nhan = n.multi()\n",
    "tru = n.subtract()\n",
    "print(f\"{chia}\\n{cong}\\n{nhan}\\n{tru}\")\n",
    "'''"
   ]
  },
  {
   "cell_type": "code",
   "execution_count": null,
   "id": "ddc584bd",
   "metadata": {},
   "outputs": [],
   "source": [
    "class SoHoc:\n",
    "    def __init__(self):\n",
    "        self.num1 = None\n",
    "        self.num2 = None\n",
    "        #pass\n",
    "    \n",
    "    def input_info(self):\n",
    "        self.num1 = int(input(\"Enter number 1: \"))\n",
    "        self.num2 = int(input(\"Enter number 2: \"))\n",
    "        list_num = [self.num1, self.num2]\n",
    "        #return self.num1, self.num2\n",
    "   \n",
    "    def print_info(self):\n",
    "        print(self.num1)\n",
    "        print(self.num2)\n",
    "        #print(self.input_info())\n",
    "    \n",
    "    def addtion(self):\n",
    "        tong = self.num1 + self.num2\n",
    "        return tong\n",
    "    \n",
    "    def subtract(self):\n",
    "        hieu = self.num1 - self.num2\n",
    "        return hieu\n",
    "    \n",
    "    def multi(self):\n",
    "        tich = self.num1 * self.num2\n",
    "        return tich\n",
    "    \n",
    "    def division(self):\n",
    "        thuong = self.num1 // self.num2\n",
    "        return thuong\n",
    "    \n",
    "n = SoHoc()\n",
    "n.input_info()\n",
    "n.print_info()\n",
    "#n.addtion()\n",
    "#n.multi()\n",
    "n.subtract()"
   ]
  },
  {
   "cell_type": "code",
   "execution_count": 19,
   "id": "36df296d",
   "metadata": {},
   "outputs": [
    {
     "name": "stdout",
     "output_type": "stream",
     "text": [
      "hello\n",
      "hello\n",
      "hello\n",
      "hello\n"
     ]
    }
   ],
   "source": [
    "#def hello():\n",
    "    #return \"hello\"\n",
    "'''\n",
    "hello()\n",
    "hello()\n",
    "hello()\n",
    "hello()\n",
    "'''\n",
    "#print(hello())\n",
    "'''\n",
    "def hello():\n",
    "    return \"hello\"\n",
    "\n",
    "c = hello()\n",
    "d = hello()\n",
    "e = hello()\n",
    "f = hello()\n",
    "print(f\"{c}\\n{d}\\n{e}\\n{f}\")\n",
    "'''\n",
    "\n",
    "def hello():\n",
    "    return \"hello\"\n",
    "\n",
    "a = hello()\n",
    "print(a)\n",
    "print(a)\n",
    "print(a)\n",
    "print(a)\n"
   ]
  }
 ],
 "metadata": {
  "kernelspec": {
   "display_name": "Python 3 (ipykernel)",
   "language": "python",
   "name": "python3"
  },
  "language_info": {
   "codemirror_mode": {
    "name": "ipython",
    "version": 3
   },
   "file_extension": ".py",
   "mimetype": "text/x-python",
   "name": "python",
   "nbconvert_exporter": "python",
   "pygments_lexer": "ipython3",
   "version": "3.9.6"
  }
 },
 "nbformat": 4,
 "nbformat_minor": 5
}
