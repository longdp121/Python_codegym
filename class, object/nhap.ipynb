{
 "cells": [
  {
   "cell_type": "code",
   "execution_count": 3,
   "id": "4a097aa8",
   "metadata": {},
   "outputs": [
    {
     "name": "stdout",
     "output_type": "stream",
     "text": [
      "<turtle.Turtle object at 0x00000261A7F36100>\n"
     ]
    }
   ],
   "source": [
    "import turtle\n",
    "\n",
    "def rua():\n",
    "    my_li = [[10, \"abc\"], [], []]\n",
    "    p = turtle.Turtle()\n",
    "    p.pensize = 10\n",
    "    my_li[0].append(p)\n",
    "    return my_li\n",
    "\n",
    "def ve():\n",
    "    choMeo = rua()[0][2]\n",
    "    choMeo.left(77)\n",
    "    choMeo.fd(100)\n",
    "\n",
    "rua()\n",
    "ve()\n",
    "print(rua()[0][2])\n",
    "turtle.done()"
   ]
  }
 ],
 "metadata": {
  "kernelspec": {
   "display_name": "Python 3 (ipykernel)",
   "language": "python",
   "name": "python3"
  },
  "language_info": {
   "codemirror_mode": {
    "name": "ipython",
    "version": 3
   },
   "file_extension": ".py",
   "mimetype": "text/x-python",
   "name": "python",
   "nbconvert_exporter": "python",
   "pygments_lexer": "ipython3",
   "version": "3.9.6"
  }
 },
 "nbformat": 4,
 "nbformat_minor": 5
}
