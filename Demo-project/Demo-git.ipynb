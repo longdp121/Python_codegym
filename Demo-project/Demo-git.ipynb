{
 "cells": [
  {
   "cell_type": "code",
   "execution_count": 1,
   "id": "d5f661ef",
   "metadata": {},
   "outputs": [
    {
     "name": "stdout",
     "output_type": "stream",
     "text": [
      "****************************\n",
      "*Name: Dao Phi Long        *\n",
      "*Center: CodyGym           *\n",
      "*Course: Python Fundamental*\n",
      "****************************\n",
      "000\n"
     ]
    }
   ],
   "source": [
    "print(\"****************************\")\n",
    "print(\"*Name: Dao Phi Long        *\")\n",
    "print(\"*Center: CodyGym           *\")\n",
    "print(\"*Course: Python Fundamental*\")\n",
    "print(\"****************************\")\n",
    "print(\"000\")"
   ]
  },
  {
   "cell_type": "code",
   "execution_count": 77,
   "id": "497f04b5",
   "metadata": {},
   "outputs": [
    {
     "name": "stdout",
     "output_type": "stream",
     "text": [
      "3\n",
      "Keo\n",
      "La\n",
      "Ban: Thang\n"
     ]
    }
   ],
   "source": [
    "# import random\n",
    "x = int(input())\n",
    "if x == 1:\n",
    "    print(\"Dam\")\n",
    "elif x == 2:\n",
    "    print(\"La\")\n",
    "elif x == 3:\n",
    "    print(\"Keo\")\n",
    "else:\n",
    "    print(\"Nhap sai\")\n",
    "\n",
    "y = random.randint(1,3)\n",
    "if y == 1:\n",
    "    print(\"Dam\")\n",
    "elif y == 2:\n",
    "    print(\"La\")\n",
    "elif y == 3:\n",
    "    print(\"Keo\")\n",
    "    \n",
    "if x == y:\n",
    "    print(\"Ket qua = HOA\")\n",
    "elif x < y:\n",
    "    print(\"Ban: Thua\")\n",
    "else:\n",
    "    print(\"Ban: Thang\")"
   ]
  },
  {
   "cell_type": "code",
   "execution_count": null,
   "id": "bfdacc5b",
   "metadata": {},
   "outputs": [],
   "source": []
  },
  {
   "cell_type": "code",
   "execution_count": null,
   "id": "9c1c69f8",
   "metadata": {},
   "outputs": [],
   "source": []
  },
  {
   "cell_type": "code",
   "execution_count": null,
   "id": "cb63b0f7",
   "metadata": {},
   "outputs": [],
   "source": []
  },
  {
   "cell_type": "code",
   "execution_count": null,
   "id": "f9134cc0",
   "metadata": {},
   "outputs": [],
   "source": []
  },
  {
   "cell_type": "code",
   "execution_count": null,
   "id": "17eb24d6",
   "metadata": {},
   "outputs": [],
   "source": []
  },
  {
   "cell_type": "code",
   "execution_count": null,
   "id": "2d456e2c",
   "metadata": {},
   "outputs": [],
   "source": []
  }
 ],
 "metadata": {
  "kernelspec": {
   "display_name": "Python 3 (ipykernel)",
   "language": "python",
   "name": "python3"
  },
  "language_info": {
   "codemirror_mode": {
    "name": "ipython",
    "version": 3
   },
   "file_extension": ".py",
   "mimetype": "text/x-python",
   "name": "python",
   "nbconvert_exporter": "python",
   "pygments_lexer": "ipython3",
   "version": "3.9.6"
  }
 },
 "nbformat": 4,
 "nbformat_minor": 5
}
