{
 "cells": [
  {
   "cell_type": "code",
   "execution_count": 1,
   "id": "d5f661ef",
   "metadata": {},
   "outputs": [
    {
     "name": "stdout",
     "output_type": "stream",
     "text": [
      "****************************\n",
      "*Name: Dao Phi Long        *\n",
      "*Center: CodyGym           *\n",
      "*Course: Python Fundamental*\n",
      "****************************\n",
      "000\n"
     ]
    }
   ],
   "source": [
    "print(\"****************************\")\n",
    "print(\"*Name: Dao Phi Long        *\")\n",
    "print(\"*Center: CodyGym           *\")\n",
    "print(\"*Course: Python Fundamental*\")\n",
    "print(\"****************************\")\n",
    "print(\"000\")"
   ]
  },
  {
   "cell_type": "code",
   "execution_count": 5,
   "id": "c214ea44",
   "metadata": {},
   "outputs": [
    {
     "name": "stdout",
     "output_type": "stream",
     "text": [
      "1\n",
      "Dam\n",
      "Nhap sai\n"
     ]
    }
   ],
   "source": [
    "x = int(input())\n",
    "if x == 1:\n",
    "    print(\"Dam\"):\n",
    "    if x == 2:\n",
    "        print(\"La\"):\n",
    "        if x == 3:\n",
    "            print(\"Keo\")\n",
    "else:\n",
    "    print(\"Nhap sai\")"
   ]
  },
  {
   "cell_type": "code",
   "execution_count": null,
   "id": "bfdacc5b",
   "metadata": {},
   "outputs": [],
   "source": []
  },
  {
   "cell_type": "code",
   "execution_count": null,
   "id": "9c1c69f8",
   "metadata": {},
   "outputs": [],
   "source": []
  },
  {
   "cell_type": "code",
   "execution_count": null,
   "id": "cb63b0f7",
   "metadata": {},
   "outputs": [],
   "source": []
  },
  {
   "cell_type": "code",
   "execution_count": null,
   "id": "f9134cc0",
   "metadata": {},
   "outputs": [],
   "source": []
  },
  {
   "cell_type": "code",
   "execution_count": null,
   "id": "17eb24d6",
   "metadata": {},
   "outputs": [],
   "source": []
  },
  {
   "cell_type": "code",
   "execution_count": null,
   "id": "2d456e2c",
   "metadata": {},
   "outputs": [],
   "source": []
  }
 ],
 "metadata": {
  "kernelspec": {
   "display_name": "Python 3 (ipykernel)",
   "language": "python",
   "name": "python3"
  },
  "language_info": {
   "codemirror_mode": {
    "name": "ipython",
    "version": 3
   },
   "file_extension": ".py",
   "mimetype": "text/x-python",
   "name": "python",
   "nbconvert_exporter": "python",
   "pygments_lexer": "ipython3",
   "version": "3.9.6"
  }
 },
 "nbformat": 4,
 "nbformat_minor": 5
}
