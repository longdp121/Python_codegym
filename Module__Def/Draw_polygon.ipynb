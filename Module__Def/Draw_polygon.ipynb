{
 "cells": [
  {
   "cell_type": "code",
   "execution_count": 5,
   "id": "a666859e",
   "metadata": {},
   "outputs": [
    {
     "name": "stdout",
     "output_type": "stream",
     "text": [
      "Enter number of edges: 5\n",
      "Enter edge lenght: 100\n"
     ]
    }
   ],
   "source": [
    "import turtle\n",
    "p = turtle.Turtle()\n",
    "def draw_polygon(a = int(input(\"Enter number of edges: \")), b = int(input(\"Enter edge lenght: \"))):\n",
    "    ang = ((a - 2) * 180) / a\n",
    "    for i in range(a):\n",
    "        p.fd(b)\n",
    "        p.left(180 - ang)\n",
    "    turtle.done()\n",
    "\n",
    "draw_polygon()"
   ]
  }
 ],
 "metadata": {
  "kernelspec": {
   "display_name": "Python 3 (ipykernel)",
   "language": "python",
   "name": "python3"
  },
  "language_info": {
   "codemirror_mode": {
    "name": "ipython",
    "version": 3
   },
   "file_extension": ".py",
   "mimetype": "text/x-python",
   "name": "python",
   "nbconvert_exporter": "python",
   "pygments_lexer": "ipython3",
   "version": "3.9.6"
  }
 },
 "nbformat": 4,
 "nbformat_minor": 5
}
