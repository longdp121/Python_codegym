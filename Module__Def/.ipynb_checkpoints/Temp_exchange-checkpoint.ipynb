{
 "cells": [
  {
   "cell_type": "code",
   "execution_count": 23,
   "id": "e60e4948",
   "metadata": {},
   "outputs": [
    {
     "name": "stdout",
     "output_type": "stream",
     "text": [
      "Enter any number: 99876\n",
      "Please choose C or F: c\n",
      "99876°C = 179808.8°F\n"
     ]
    }
   ],
   "source": [
    "#Creat function\n",
    "def temp_exchange(num, unit):  #Give result\n",
    "    if unit == \"F\":\n",
    "        result = (num - 32) * (5/9)\n",
    "    else:\n",
    "        result = (num * (9/5)) + 32\n",
    "    return round(result, 2)\n",
    "\n",
    "def re_temp(unit):  #Give return unit\n",
    "    if unit == \"F\":\n",
    "        re_temp = \"C\"\n",
    "    else:\n",
    "        re_temp = \"F\"\n",
    "    return re_temp\n",
    "\n",
    "''''''\n",
    "#Input\n",
    "num = int(input(\"Enter any number: \"))\n",
    "unit = str(input(\"Please choose C or F: \").upper())\n",
    "\n",
    "while unit not in (\"C\", \"F\"):\n",
    "    unit = str(input(\"Please choose C or F: \").upper())\n",
    "\n",
    "#Exchanging\n",
    "print(f\"{num}°{unit} = {temp_exchange(num, unit)}°{re_temp(unit)}\")"
   ]
  },
  {
   "cell_type": "code",
   "execution_count": null,
   "id": "e5978410",
   "metadata": {},
   "outputs": [],
   "source": []
  },
  {
   "cell_type": "code",
   "execution_count": null,
   "id": "fe500f85",
   "metadata": {},
   "outputs": [],
   "source": []
  },
  {
   "cell_type": "code",
   "execution_count": null,
   "id": "bcae938e",
   "metadata": {},
   "outputs": [],
   "source": []
  }
 ],
 "metadata": {
  "interpreter": {
   "hash": "f9a665eed82786d1db64405b5cfd0f8037f4571b806793cb1072a84e044fc7ff"
  },
  "kernelspec": {
   "display_name": "Python 3 (ipykernel)",
   "language": "python",
   "name": "python3"
  },
  "language_info": {
   "codemirror_mode": {
    "name": "ipython",
    "version": 3
   },
   "file_extension": ".py",
   "mimetype": "text/x-python",
   "name": "python",
   "nbconvert_exporter": "python",
   "pygments_lexer": "ipython3",
   "version": "3.9.6"
  }
 },
 "nbformat": 4,
 "nbformat_minor": 5
}
