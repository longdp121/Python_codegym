{
 "cells": [
  {
   "cell_type": "markdown",
   "id": "05948314",
   "metadata": {},
   "source": [
    "# Function"
   ]
  },
  {
   "cell_type": "markdown",
   "id": "3b68247e",
   "metadata": {},
   "source": [
    "## Function(hàm) là gì?"
   ]
  },
  {
   "cell_type": "markdown",
   "id": "cf84a685",
   "metadata": {},
   "source": [
    "Hàm (function) là một khối lệnh đặc biệt, nó được đặt tên, giúp mã chương trình dễ đọc hơn, và có thể gọi để sử dụng ở các nơi khác nhau trong chương trình. Hàm chính là khối lệnh có thể tái sử dụng (reuseable).\n",
    "\n",
    "parameter = tham số/argument = đối số\n"
   ]
  },
  {
   "cell_type": "markdown",
   "id": "18f95aa8",
   "metadata": {},
   "source": [
    "### Ví dụ: Hàm in"
   ]
  },
  {
   "cell_type": "code",
   "execution_count": null,
   "id": "0d5f66b5",
   "metadata": {},
   "outputs": [],
   "source": [
    "\n",
    "def tem_exchange(c):\n",
    "    return((c + 9/5) + 32)\n",
    "\n",
    "f = tem_exchange(float(input()))\n",
    "print(f)"
   ]
  },
  {
   "cell_type": "markdown",
   "id": "29c55e2b",
   "metadata": {},
   "source": [
    "### Ví dụ: Hàm tính giá trị tuyệt đối"
   ]
  },
  {
   "cell_type": "code",
   "execution_count": null,
   "id": "e492700a",
   "metadata": {},
   "outputs": [],
   "source": []
  },
  {
   "cell_type": "markdown",
   "id": "07fa617d",
   "metadata": {},
   "source": [
    "### Ví dụ: Hàm vẽ hình tròn"
   ]
  },
  {
   "cell_type": "code",
   "execution_count": null,
   "id": "2a2dec85",
   "metadata": {},
   "outputs": [],
   "source": []
  },
  {
   "cell_type": "markdown",
   "id": "c4575e29",
   "metadata": {},
   "source": [
    "## Xây dựng và sử dụng hàm trong python"
   ]
  },
  {
   "cell_type": "markdown",
   "id": "00ac6720",
   "metadata": {},
   "source": [
    "### Hàm say_hello"
   ]
  },
  {
   "cell_type": "code",
   "execution_count": null,
   "id": "47575691",
   "metadata": {},
   "outputs": [],
   "source": [
    "def sayHello():\n",
    "    print(\"Say Hello cac ban!\")\n",
    "    \n",
    "sayHello()"
   ]
  },
  {
   "cell_type": "code",
   "execution_count": null,
   "id": "2e4f262b",
   "metadata": {},
   "outputs": [],
   "source": [
    "sayHello()"
   ]
  },
  {
   "cell_type": "markdown",
   "id": "f9b6f894",
   "metadata": {},
   "source": [
    "### Hàm vẽ cây thông"
   ]
  },
  {
   "cell_type": "code",
   "execution_count": null,
   "id": "7ffc1c65",
   "metadata": {},
   "outputs": [],
   "source": [
    "import turtle\n",
    "import math\n",
    "pen = turtle.Turtle()\n",
    "pen.left(90)\n",
    "pen.penup()\n",
    "pen.goto(0,-200)\n",
    "tall = 160\n",
    "wide = tall/10\n",
    "\n",
    "def draw_tree_body():\n",
    "    pen.fillcolor(\"#81480C\")\n",
    "    pen.begin_fill()\n",
    "    for i in range(2):\n",
    "        pen.forward(tall)\n",
    "        pen.right(90)\n",
    "        pen.forward(wide)\n",
    "        pen.right(90)\n",
    "    pen.end_fill()\n",
    "    \n",
    "def draw_leaf():\n",
    "    pen.fillcolor(\"#49EB01\")\n",
    "    pen.begin_fill()\n",
    "    h = tall/2\n",
    "    for i in range(3):\n",
    "        pen.penup()\n",
    "        pen.forward(h)\n",
    "        pen.pendown()\n",
    "        pen.left(135)\n",
    "        pen.forward(h * math.sqrt(2))\n",
    "        pen.left(135)\n",
    "        pen.forward(2*h)\n",
    "        pen.left(135)\n",
    "        pen.forward(h * math.sqrt(2))\n",
    "        pen.right(45)\n",
    "    pen.end_fill()\n",
    "\n",
    "draw_tree_body()\n",
    "pen.forward(tall)\n",
    "pen.right(90)\n",
    "pen.forward(wide/2)\n",
    "pen.left(90)\n",
    "draw_leaf()\n",
    "\n",
    "turtle.done()"
   ]
  },
  {
   "cell_type": "markdown",
   "id": "77fa1ef1",
   "metadata": {},
   "source": [
    "## doc_string cho hàm"
   ]
  },
  {
   "cell_type": "code",
   "execution_count": null,
   "id": "8dcf448b",
   "metadata": {},
   "outputs": [],
   "source": [
    "# Hàm tính chu vi hình chữ nhật"
   ]
  },
  {
   "cell_type": "code",
   "execution_count": null,
   "id": "a7dc57e9",
   "metadata": {},
   "outputs": [],
   "source": [
    "def student_rank():\n",
    "    \"\"\"\n",
    "    Ham studen_rank phân loại học sinh theo điểm số trung bình. Công thức phân loại: <5 HS trung bình; 5 <= score < 6.5 HS khá; else HS giỏi\n",
    "    Nhận vào: score \n",
    "    Trả về: rank\n",
    "    \"\"\"\n",
    "    pass"
   ]
  },
  {
   "cell_type": "markdown",
   "id": "0c5f3f35",
   "metadata": {},
   "source": [
    "## Phạm vi biến"
   ]
  },
  {
   "cell_type": "code",
   "execution_count": null,
   "id": "b332222c",
   "metadata": {},
   "outputs": [],
   "source": [
    "# Hàm tính tổng các số từ 1 đến 10\n",
    "number = 10  #Global or biến toàn cục\n",
    "def process_number():\n",
    "    #number = 5  #Local ỏ biến cục bộ\n",
    "    print(number)\n",
    "\n",
    "process_number()"
   ]
  },
  {
   "cell_type": "markdown",
   "id": "7407e8fe",
   "metadata": {},
   "source": [
    "## Đối số của hàm"
   ]
  },
  {
   "cell_type": "code",
   "execution_count": null,
   "id": "f5787950",
   "metadata": {},
   "outputs": [],
   "source": [
    "# Hàm tính thể tích hình lập phương"
   ]
  },
  {
   "cell_type": "code",
   "execution_count": null,
   "id": "8d1bc23b",
   "metadata": {},
   "outputs": [],
   "source": [
    "# Hàm xếp loại học sinh\n",
    "def student_rank(score):\n",
    "    \"\"\"\n",
    "    Ham studen_rank phân loại học sinh theo điểm số trung bình. Công thức phân loại: <5 HS trung bình; 5 <= score < 6.5 HS khá; else HS giỏi\n",
    "    Nhận vào: score \n",
    "    Trả về: rank\n",
    "    \"\"\"\n",
    "    if score < 5:\n",
    "        rank = \"TB\"\n",
    "    elif 5 <= score < 6:\n",
    "        rank = \"Kha\"\n",
    "    else:\n",
    "        rank = \"Gioi\"\n",
    "    print(rank)\n",
    "\n",
    "student_rank(9)"
   ]
  },
  {
   "cell_type": "code",
   "execution_count": null,
   "id": "deefff35",
   "metadata": {},
   "outputs": [],
   "source": [
    "#Default value được sử dụng để gắn giá trị mặc định cho parametter.\n",
    "#Khi fuction được gọi nhưng parameter không được nhập giá trị thì defaul value sẽ được gọi ra.\n",
    "#Default value luôn được gắn cho parametter cuối cùng\n",
    "\n",
    "#Named argument\n",
    "def count_appearance(string, sub_string = \"c\"):\n",
    "    count = string.count(sub_string)\n",
    "    print(count)\n",
    "\n",
    "count_appearance('abcaaaaadef')"
   ]
  },
  {
   "cell_type": "code",
   "execution_count": null,
   "id": "b9ec6d90",
   "metadata": {},
   "outputs": [],
   "source": [
    "def count_appearance(string, sub_string):\n",
    "    count = 0\n",
    "    for i in range(len(string)):\n",
    "        if sub_string == string[i]:\n",
    "            count += 1\n",
    "    print (count)\n",
    "    \n",
    "count_appearance(\"abcaaaaabaaada\", \"caa\")"
   ]
  },
  {
   "cell_type": "code",
   "execution_count": null,
   "id": "ed74a21e",
   "metadata": {},
   "outputs": [],
   "source": [
    "def sub(a,b):\n",
    "    print(a - b)\n",
    "\n",
    "#Named argument, gắn giá trị cho hàm kèm theo tên biến\n",
    "#Loại bỏ rủi ro về nhập sai thứ tự parameter. VD print(3,5) ==> Output = -2\n",
    "sub(b = 3,a = 5)"
   ]
  },
  {
   "cell_type": "markdown",
   "id": "4cb69485",
   "metadata": {},
   "source": [
    "## Giá trị trả về của hàm"
   ]
  },
  {
   "cell_type": "code",
   "execution_count": null,
   "id": "24592238",
   "metadata": {},
   "outputs": [],
   "source": [
    "# Hàm tính chiều dài của chuỗi\n",
    "def len_string(string):\n",
    "    line = len(string)\n",
    "    print(line)\n",
    "    \n",
    "len1 = len_string('ahihi')\n",
    "print(len1)"
   ]
  },
  {
   "cell_type": "code",
   "execution_count": null,
   "id": "56d947d8",
   "metadata": {},
   "outputs": [],
   "source": [
    "# Hàm tính lũy thừa\n",
    "# Nhập vào a, b. Tính ra a^b\n",
    "def input_data():\n",
    "    a = int(input(\"Enter any number: \"))\n",
    "    b = int(input(\"Enter any number: \"))\n",
    "    return a, b\n",
    "\n",
    "def calc_pow(a, b):\n",
    "    return a ** b\n",
    "\n",
    "\n",
    "#Hàm trong hàm\n",
    "def process():\n",
    "    a, b = input_data()\n",
    "    result = calc_pow(a, b)\n",
    "    print(f\"{a} ^ {b} = {result}\")\n",
    "    \n",
    "process()"
   ]
  },
  {
   "cell_type": "code",
   "execution_count": null,
   "id": "0178d43e",
   "metadata": {},
   "outputs": [],
   "source": [
    "#Creat function\n",
    "def year_input():  #Input\n",
    "    year = int(input(\"Enter year: \"))\n",
    "    return year\n",
    "\n",
    "def year_check(year):  #Checking\n",
    "    if year % 4 == 0 and year % 100 != 0:\n",
    "        check = \"leap year\"\n",
    "    else:\n",
    "        check = \"normal year\"\n",
    "    return check\n",
    "\n",
    "def checking():  #Main process\n",
    "    year = year_input()\n",
    "    check = year_check(year)\n",
    "    print(f\"{year} is {check}\")\n",
    "           \n",
    "#Checking\n",
    "#print(f\"{year} is {year_check(year)}\")\n",
    "checking()"
   ]
  },
  {
   "cell_type": "code",
   "execution_count": 6,
   "id": "2df1146e",
   "metadata": {},
   "outputs": [
    {
     "name": "stdout",
     "output_type": "stream",
     "text": [
      "Enter begin year: 100\n",
      "Enter end year: 50000\n"
     ]
    },
    {
     "ename": "UnboundLocalError",
     "evalue": "local variable 'leap_year' referenced before assignment",
     "output_type": "error",
     "traceback": [
      "\u001b[1;31m---------------------------------------------------------------------------\u001b[0m",
      "\u001b[1;31mUnboundLocalError\u001b[0m                         Traceback (most recent call last)",
      "\u001b[1;32m~\\AppData\\Local\\Temp/ipykernel_9788/1078285933.py\u001b[0m in \u001b[0;36m<module>\u001b[1;34m\u001b[0m\n\u001b[0;32m     16\u001b[0m     \u001b[0mprint\u001b[0m\u001b[1;33m(\u001b[0m\u001b[1;34mf\"Between {begin_year} and {end_year}: {leap_year}\"\u001b[0m\u001b[1;33m)\u001b[0m\u001b[1;33m\u001b[0m\u001b[1;33m\u001b[0m\u001b[0m\n\u001b[0;32m     17\u001b[0m \u001b[1;33m\u001b[0m\u001b[0m\n\u001b[1;32m---> 18\u001b[1;33m \u001b[0mfinding\u001b[0m\u001b[1;33m(\u001b[0m\u001b[1;33m)\u001b[0m\u001b[1;33m\u001b[0m\u001b[1;33m\u001b[0m\u001b[0m\n\u001b[0m",
      "\u001b[1;32m~\\AppData\\Local\\Temp/ipykernel_9788/1078285933.py\u001b[0m in \u001b[0;36mfinding\u001b[1;34m()\u001b[0m\n\u001b[0;32m     13\u001b[0m \u001b[1;32mdef\u001b[0m \u001b[0mfinding\u001b[0m\u001b[1;33m(\u001b[0m\u001b[1;33m)\u001b[0m\u001b[1;33m:\u001b[0m\u001b[1;33m\u001b[0m\u001b[1;33m\u001b[0m\u001b[0m\n\u001b[0;32m     14\u001b[0m     \u001b[0mbegin_year\u001b[0m\u001b[1;33m,\u001b[0m \u001b[0mend_year\u001b[0m \u001b[1;33m=\u001b[0m \u001b[0myear_input\u001b[0m\u001b[1;33m(\u001b[0m\u001b[1;33m)\u001b[0m\u001b[1;33m\u001b[0m\u001b[1;33m\u001b[0m\u001b[0m\n\u001b[1;32m---> 15\u001b[1;33m     \u001b[0mleap_year\u001b[0m \u001b[1;33m=\u001b[0m \u001b[0mfind_leap_year\u001b[0m\u001b[1;33m(\u001b[0m\u001b[0mbegin_year\u001b[0m\u001b[1;33m,\u001b[0m \u001b[0mend_year\u001b[0m\u001b[1;33m)\u001b[0m\u001b[1;33m\u001b[0m\u001b[1;33m\u001b[0m\u001b[0m\n\u001b[0m\u001b[0;32m     16\u001b[0m     \u001b[0mprint\u001b[0m\u001b[1;33m(\u001b[0m\u001b[1;34mf\"Between {begin_year} and {end_year}: {leap_year}\"\u001b[0m\u001b[1;33m)\u001b[0m\u001b[1;33m\u001b[0m\u001b[1;33m\u001b[0m\u001b[0m\n\u001b[0;32m     17\u001b[0m \u001b[1;33m\u001b[0m\u001b[0m\n",
      "\u001b[1;32m~\\AppData\\Local\\Temp/ipykernel_9788/1078285933.py\u001b[0m in \u001b[0;36mfind_leap_year\u001b[1;34m(begin_year, end_year)\u001b[0m\n\u001b[0;32m      9\u001b[0m         \u001b[1;32mif\u001b[0m \u001b[0myear\u001b[0m \u001b[1;33m%\u001b[0m \u001b[1;36m4\u001b[0m \u001b[1;33m==\u001b[0m \u001b[1;36m0\u001b[0m \u001b[1;32mand\u001b[0m \u001b[0myear\u001b[0m \u001b[1;33m%\u001b[0m \u001b[1;36m100\u001b[0m \u001b[1;33m!=\u001b[0m \u001b[1;36m0\u001b[0m\u001b[1;33m:\u001b[0m\u001b[1;33m\u001b[0m\u001b[1;33m\u001b[0m\u001b[0m\n\u001b[0;32m     10\u001b[0m             \u001b[0mleap_year\u001b[0m \u001b[1;33m=\u001b[0m \u001b[0myear\u001b[0m\u001b[1;33m\u001b[0m\u001b[1;33m\u001b[0m\u001b[0m\n\u001b[1;32m---> 11\u001b[1;33m         \u001b[1;32mreturn\u001b[0m \u001b[0mleap_year\u001b[0m\u001b[1;33m\u001b[0m\u001b[1;33m\u001b[0m\u001b[0m\n\u001b[0m\u001b[0;32m     12\u001b[0m \u001b[1;33m\u001b[0m\u001b[0m\n\u001b[0;32m     13\u001b[0m \u001b[1;32mdef\u001b[0m \u001b[0mfinding\u001b[0m\u001b[1;33m(\u001b[0m\u001b[1;33m)\u001b[0m\u001b[1;33m:\u001b[0m\u001b[1;33m\u001b[0m\u001b[1;33m\u001b[0m\u001b[0m\n",
      "\u001b[1;31mUnboundLocalError\u001b[0m: local variable 'leap_year' referenced before assignment"
     ]
    }
   ],
   "source": [
    "#Creat function\n",
    "def year_input():  #Input\n",
    "    begin_year = int(input(\"Enter begin year: \"))\n",
    "    end_year = int(input(\"Enter end year: \"))\n",
    "    return begin_year, end_year\n",
    "\n",
    "def find_leap_year(begin_year, end_year):\n",
    "    for year in range(begin_year, end_year + 1):\n",
    "        if year % 4 == 0 and year % 100 != 0:\n",
    "            leap_year = year\n",
    "        return leap_year\n",
    "        \n",
    "def finding():\n",
    "    begin_year, end_year = year_input()\n",
    "    leap_year = find_leap_year(begin_year, end_year)\n",
    "    print(f\"Between {begin_year} and {end_year}: {leap_year}\")\n",
    "    \n",
    "finding()"
   ]
  },
  {
   "cell_type": "code",
   "execution_count": null,
   "id": "7d5a643c",
   "metadata": {},
   "outputs": [],
   "source": []
  }
 ],
 "metadata": {
  "kernelspec": {
   "display_name": "Python 3 (ipykernel)",
   "language": "python",
   "name": "python3"
  },
  "language_info": {
   "codemirror_mode": {
    "name": "ipython",
    "version": 3
   },
   "file_extension": ".py",
   "mimetype": "text/x-python",
   "name": "python",
   "nbconvert_exporter": "python",
   "pygments_lexer": "ipython3",
   "version": "3.9.6"
  }
 },
 "nbformat": 4,
 "nbformat_minor": 5
}
