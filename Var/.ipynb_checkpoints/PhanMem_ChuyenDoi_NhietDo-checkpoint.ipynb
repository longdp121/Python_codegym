{
 "cells": [
  {
   "cell_type": "code",
   "execution_count": 26,
   "id": "ed535dab",
   "metadata": {},
   "outputs": [
    {
     "name": "stdout",
     "output_type": "stream",
     "text": [
      "10\n",
      "C\n",
      "*************\n",
      "=50.0 F\n"
     ]
    }
   ],
   "source": [
    "num = int(input()) #Khai bao gia tri\n",
    "uni = str(input()) #Khai bao don vi\n",
    "\n",
    "print(\"*************\")\n",
    "if uni == \"F\":\n",
    "    C = (num - 32)*(5/9)\n",
    "    print(\"=\" + str(C) + \" \" + \"C\")\n",
    "elif uni == \"C\":\n",
    "    F = (num * 1.8) + 32\n",
    "    print(\"=\" + str(F) + \" \" + \"F\")\n",
    "else:\n",
    "    print(\"Nhap sai\")"
   ]
  },
  {
   "cell_type": "code",
   "execution_count": null,
   "id": "1da03e47",
   "metadata": {},
   "outputs": [],
   "source": []
  }
 ],
 "metadata": {
  "kernelspec": {
   "display_name": "Python 3 (ipykernel)",
   "language": "python",
   "name": "python3"
  },
  "language_info": {
   "codemirror_mode": {
    "name": "ipython",
    "version": 3
   },
   "file_extension": ".py",
   "mimetype": "text/x-python",
   "name": "python",
   "nbconvert_exporter": "python",
   "pygments_lexer": "ipython3",
   "version": "3.9.6"
  }
 },
 "nbformat": 4,
 "nbformat_minor": 5
}
