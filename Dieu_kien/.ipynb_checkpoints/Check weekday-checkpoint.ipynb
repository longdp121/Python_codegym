{
 "cells": [
  {
   "cell_type": "code",
   "execution_count": 9,
   "id": "d7938f64",
   "metadata": {},
   "outputs": [
    {
     "name": "stdout",
     "output_type": "stream",
     "text": [
      "Please enter order of day:0\n",
      "Wrong input\n"
     ]
    }
   ],
   "source": [
    "week_day = int(input(\"Please enter order of day:\"))\n",
    "if week_day <= 0 or week_day > 7:\n",
    "    print(\"Wrong input\")\n",
    "elif week_day == 1:\n",
    "    print(\"Monday\")\n",
    "elif week_day == 2:\n",
    "    print(\"Tuesday\")\n",
    "elif week_day == 3:\n",
    "    print(\"Wed\")\n",
    "elif week_day == 4:\n",
    "    print(\"Thu\")\n",
    "elif week_day == 5:\n",
    "    print(\"Fri\")\n",
    "elif week_day == 6:\n",
    "    print(\"Sat\")\n",
    "else:\n",
    "    print(\"Sun\")"
   ]
  }
 ],
 "metadata": {
  "kernelspec": {
   "display_name": "Python 3 (ipykernel)",
   "language": "python",
   "name": "python3"
  },
  "language_info": {
   "codemirror_mode": {
    "name": "ipython",
    "version": 3
   },
   "file_extension": ".py",
   "mimetype": "text/x-python",
   "name": "python",
   "nbconvert_exporter": "python",
   "pygments_lexer": "ipython3",
   "version": "3.9.6"
  }
 },
 "nbformat": 4,
 "nbformat_minor": 5
}
