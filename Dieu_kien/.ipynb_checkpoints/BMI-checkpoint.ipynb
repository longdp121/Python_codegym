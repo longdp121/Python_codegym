{
 "cells": [
  {
   "cell_type": "code",
   "execution_count": 6,
   "id": "4b63469a",
   "metadata": {},
   "outputs": [
    {
     "name": "stdout",
     "output_type": "stream",
     "text": [
      "Enter weight: 190\n",
      "Enter heigh: 1.89\n",
      "Ban nang 190.0kg va cao 1.89m, chi so BMI la 53.2, tinh trang Thua can do 3\n"
     ]
    }
   ],
   "source": [
    "import math as m\n",
    "w = float(input(\"Enter weight: \"))\n",
    "h = float(input(\"Enter heigh: \"))\n",
    "\n",
    "bmi = w / (m.pow(h,2))\n",
    "if bmi < 16:\n",
    "    shape = \"Gay do 3\"\n",
    "elif 16 <= bmi < 17:\n",
    "    shape = \"Gay do 2\"\n",
    "elif 17 <= bmi < 18.5:\n",
    "    shape = \"Gay do 1\"\n",
    "elif 18.5 <= bmi < 25:\n",
    "    shape = \"Binh thuong\"\n",
    "elif 25 <= bmi < 30:\n",
    "    shape = \"Thua can\"\n",
    "elif 30 <= bmi < 35:\n",
    "    shape = \"Thua can do 1\"\n",
    "elif 35 <= bmi < 40:\n",
    "    shape = \"Thua can do 2\"\n",
    "elif 40 <= bmi:\n",
    "    shape = \"Thua can do 3\"\n",
    "print(f\"Ban nang {w}kg va cao {h}m, chi so BMI la {round(bmi,1)}, tinh trang {shape}\")"
   ]
  }
 ],
 "metadata": {
  "kernelspec": {
   "display_name": "Python 3 (ipykernel)",
   "language": "python",
   "name": "python3"
  },
  "language_info": {
   "codemirror_mode": {
    "name": "ipython",
    "version": 3
   },
   "file_extension": ".py",
   "mimetype": "text/x-python",
   "name": "python",
   "nbconvert_exporter": "python",
   "pygments_lexer": "ipython3",
   "version": "3.9.6"
  }
 },
 "nbformat": 4,
 "nbformat_minor": 5
}
