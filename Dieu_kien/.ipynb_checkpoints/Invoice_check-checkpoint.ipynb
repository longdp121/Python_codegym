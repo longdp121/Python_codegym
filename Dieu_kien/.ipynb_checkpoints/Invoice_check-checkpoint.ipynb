{
 "cells": [
  {
   "cell_type": "code",
   "execution_count": 7,
   "id": "104e9c9a",
   "metadata": {},
   "outputs": [
    {
     "name": "stdout",
     "output_type": "stream",
     "text": [
      "Enter total payment: USD 100\n",
      "Your payment is 100.0 USD, promotion is 25 USD and final payment is 75.0 USD\n"
     ]
    }
   ],
   "source": [
    "payment = float(input(\"Enter total payment: USD \"))\n",
    "if payment <= 0:\n",
    "    print(\"Wrong payment input\")\n",
    "else:\n",
    "    if payment >= 150:\n",
    "        promo = 50\n",
    "    elif payment >= 100:\n",
    "        promo = 25\n",
    "    elif payment >= 75:\n",
    "        promo = 15\n",
    "    else:\n",
    "        promo = 0\n",
    "    real_pay = payment - promo\n",
    "    print(f\"Your payment is {payment} USD, promotion is {promo} USD and final payment is {real_pay} USD\")"
   ]
  }
 ],
 "metadata": {
  "kernelspec": {
   "display_name": "Python 3 (ipykernel)",
   "language": "python",
   "name": "python3"
  },
  "language_info": {
   "codemirror_mode": {
    "name": "ipython",
    "version": 3
   },
   "file_extension": ".py",
   "mimetype": "text/x-python",
   "name": "python",
   "nbconvert_exporter": "python",
   "pygments_lexer": "ipython3",
   "version": "3.9.6"
  }
 },
 "nbformat": 4,
 "nbformat_minor": 5
}
