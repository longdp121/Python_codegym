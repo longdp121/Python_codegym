{
 "cells": [
  {
   "cell_type": "code",
   "execution_count": 4,
   "id": "237a6d00",
   "metadata": {},
   "outputs": [
    {
     "name": "stdout",
     "output_type": "stream",
     "text": [
      "Enter shape (circle or square):cut\n",
      "Enter r:100\n",
      "Enter color (red or green)red\n",
      "Wrong shape\n"
     ]
    }
   ],
   "source": [
    "import turtle\n",
    "#Khai bao bien\n",
    "shape_input = str(input(\"Enter shape (circle or square):\"))\n",
    "r = float(input(\"Enter r:\"))\n",
    "color_input = str(input(\"Enter color (red or green)\"))\n",
    "p = turtle.Turtle()\n",
    "p.pensize = 2\n",
    "p.speed = 10\n",
    "#Start draw\n",
    "if shape_input == \"circle\" or shape_input == \"square\":\n",
    "    if color_input == \"red\" or color_input == \"green\":\n",
    "        p.fillcolor(color_input)\n",
    "        p.begin_fill()\n",
    "        p.shape(shape_input)\n",
    "        p.end_fill()\n",
    "    else:\n",
    "        print(\"Wrong color\")\n",
    "else:\n",
    "    print(\"Wrong shape\")"
   ]
  }
 ],
 "metadata": {
  "kernelspec": {
   "display_name": "Python 3 (ipykernel)",
   "language": "python",
   "name": "python3"
  },
  "language_info": {
   "codemirror_mode": {
    "name": "ipython",
    "version": 3
   },
   "file_extension": ".py",
   "mimetype": "text/x-python",
   "name": "python",
   "nbconvert_exporter": "python",
   "pygments_lexer": "ipython3",
   "version": "3.9.6"
  }
 },
 "nbformat": 4,
 "nbformat_minor": 5
}
