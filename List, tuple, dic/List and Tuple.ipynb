{
 "cells": [
  {
   "cell_type": "markdown",
   "metadata": {},
   "source": [
    "## Review: type()"
   ]
  },
  {
   "cell_type": "code",
   "execution_count": null,
   "metadata": {},
   "outputs": [],
   "source": [
    "# Python có 4 kiểu dữ liệu cơ bản"
   ]
  },
  {
   "cell_type": "markdown",
   "metadata": {},
   "source": [
    "## list là gì?"
   ]
  },
  {
   "cell_type": "code",
   "execution_count": null,
   "metadata": {},
   "outputs": [],
   "source": [
    "# Ví dụ\n",
    "#Viết function group member\n",
    "\n",
    "def print_group_names(n1, n2, n3, n4, n5):\n",
    "    print(f\"Members in group are: {n1}, {n2}, {n3}, {n4}, {n5}\")\n",
    "    \n",
    "print_group_names(\"abc\", \"def\", \"ghi\", \"lmn\", \"oup\")"
   ]
  },
  {
   "cell_type": "code",
   "execution_count": null,
   "metadata": {},
   "outputs": [],
   "source": [
    "# Sử dụng list\n",
    "names = [\"abc\", \"def\", \"ghi\", \"lmn\", 1234, 56.3443, True, False]\n",
    "print(names[0:4])"
   ]
  },
  {
   "cell_type": "markdown",
   "metadata": {},
   "source": [
    "### Thực hành: Viết chương trình tạo ra một list các string khác nhau và đếm tổng số lượng string dài hơn 3 kí tự"
   ]
  },
  {
   "cell_type": "code",
   "execution_count": null,
   "metadata": {},
   "outputs": [],
   "source": [
    "list_string = [\"asbc\", \"a\", \"asc\", \"f\", \"fd\"]\n",
    "count = 0\n",
    "for i in range (len(list_string)):\n",
    "    if len(list_string[i]) >= 3:\n",
    "        count += 1\n",
    "print(count)"
   ]
  },
  {
   "cell_type": "markdown",
   "metadata": {},
   "source": [
    "### Thực hành 2: Viết chương trình nhận vào 2 list và trả về True nếu 2 list có ít nhất 1 phần tử chung, ngược lại trả về False"
   ]
  },
  {
   "cell_type": "code",
   "execution_count": null,
   "metadata": {},
   "outputs": [],
   "source": []
  },
  {
   "cell_type": "markdown",
   "metadata": {},
   "source": [
    "## Các thao tác cơ bản với list"
   ]
  },
  {
   "cell_type": "markdown",
   "metadata": {},
   "source": [
    "### Kiểm tra độ dài list"
   ]
  },
  {
   "cell_type": "code",
   "execution_count": null,
   "metadata": {},
   "outputs": [],
   "source": [
    "list = [1, 2, 3, 4, 5, 6, 7]\n",
    "print(len(list))"
   ]
  },
  {
   "cell_type": "markdown",
   "metadata": {},
   "source": [
    "### Truy cập phần tử trên list"
   ]
  },
  {
   "cell_type": "code",
   "execution_count": null,
   "metadata": {},
   "outputs": [],
   "source": [
    "list = [1, 2, 3, 4, 5, 6, 7]\n",
    "\n",
    "print(list[0:3])\n",
    "print(list[-1])"
   ]
  },
  {
   "cell_type": "markdown",
   "metadata": {},
   "source": [
    "### Thực hành: Tạo một list 10 số tự nhiên và in ra các phần tử trong list"
   ]
  },
  {
   "cell_type": "code",
   "execution_count": null,
   "metadata": {},
   "outputs": [],
   "source": [
    "list_num = [0, 1, 2, 3, 4, 5, 6, 7, 8, 9, 10]\n",
    "for i in list_num:\n",
    "    print(i, end = \" \")"
   ]
  },
  {
   "cell_type": "markdown",
   "metadata": {},
   "source": [
    "### Thực hành 2: Tạo ra một list con chưa 2 phần tử cuối cùng từ list đã tạo ở trên"
   ]
  },
  {
   "cell_type": "code",
   "execution_count": null,
   "metadata": {},
   "outputs": [],
   "source": [
    "list_num = [0, 1, 2, 3, 4, 5, 6, 7, 8, 9, 10]\n",
    "sub_list = list_num[::3]\n",
    "print(sub_list)"
   ]
  },
  {
   "cell_type": "markdown",
   "metadata": {},
   "source": [
    "### Cộng list"
   ]
  },
  {
   "cell_type": "code",
   "execution_count": null,
   "metadata": {},
   "outputs": [],
   "source": [
    "#Append list\n",
    "recipes = [\"Rau\", \"trung\", \"dau\"]\n",
    "print(recipes)\n",
    "hehe = [\"cho\", \"meo\"]\n",
    "recipes.append(hehe)\n",
    "print(recipes)\n",
    "\n",
    "#Cong list\n",
    "fruits = [\"chuoi\", \"chanh\", \"cam\"]\n",
    "rau = [\"Cai\", \"gia\"]\n",
    "print(fruits + rau)\n",
    "\n",
    "#Extend\n",
    "working_day = [\"t2\", \"t3\", \"t4\", \"t5\", \"t6\"]\n",
    "working_day.extend([\"t6\", \"t7\"])\n",
    "print(working_day)\n",
    "\n",
    "#[\"t7\", \"cn\"]"
   ]
  },
  {
   "cell_type": "markdown",
   "metadata": {},
   "source": [
    "### Thực hành: Thêm học sinh vào lớp"
   ]
  },
  {
   "cell_type": "code",
   "execution_count": 69,
   "metadata": {},
   "outputs": [
    {
     "name": "stdout",
     "output_type": "stream",
     "text": [
      "['abc', 'def', 'ghi', 'lmn', 'oup', 'jqk']\n",
      "['abc', 'def', 'ghi', 'ChoMeoGa', 'oup', 'jqk']\n"
     ]
    }
   ],
   "source": [
    "list_students = [\"abc\", \"def\", \"ghi\", \"lmn\", \"oup\"]\n",
    "list_students.append(\"jqk\")\n",
    "print(list_students)\n",
    "list_students[3] = \"ChoMeoGa\"\n",
    "print(list_students)"
   ]
  },
  {
   "cell_type": "markdown",
   "metadata": {},
   "source": [
    "### Kiểm tra phần tử tồn tại trong list"
   ]
  },
  {
   "cell_type": "code",
   "execution_count": 10,
   "metadata": {
    "scrolled": true
   },
   "outputs": [
    {
     "name": "stdout",
     "output_type": "stream",
     "text": [
      "10\n",
      "20\n",
      "30\n",
      "30 in list\n",
      "40\n",
      "50\n",
      "10\n",
      "10\n",
      "10\n",
      "10\n",
      "10\n",
      "Co 30\n",
      "4\n",
      "6\n",
      "khong co K dau\n"
     ]
    }
   ],
   "source": [
    "a = [10, 20, 30, 40, 50, 10, 10, 10, 10, 10]\n",
    "#loop\n",
    "for item in a:\n",
    "    print(item)\n",
    "    if item == 30:\n",
    "        print(\"30 in list\")\n",
    "#in\n",
    "if 30 in a:\n",
    "    print(\"Co 30\")\n",
    "    \n",
    "#count\n",
    "string = \"aaabbbbdddddeeeeeefffffff\"\n",
    "print(string.count(\"b\"))\n",
    "print(a.count(10))\n",
    "\n",
    "if string.count(\"k\") == 0:\n",
    "    print(\"khong co K dau\")"
   ]
  },
  {
   "cell_type": "markdown",
   "metadata": {},
   "source": [
    "### Xóa phần tử khỏi list"
   ]
  },
  {
   "cell_type": "code",
   "execution_count": 23,
   "metadata": {},
   "outputs": [
    {
     "name": "stdout",
     "output_type": "stream",
     "text": [
      "30\n",
      "[10, 20, 40, 50]\n",
      "[5, 10, 15, 20, 30, 35]\n"
     ]
    }
   ],
   "source": [
    "#pop xóa sau đó return giá trị vừa xóa\n",
    "a = [10, 20, 30, 40, 50]\n",
    "print(a.pop(2))\n",
    "print(a)\n",
    "\n",
    "#del xóa và không return\n",
    "b = [5, 10, 15, 20, 25, 30, 35]\n",
    "del b[4]\n",
    "print(b)\n",
    "\n",
    "#pop và del chỉ xóa được một phần tử một lần"
   ]
  },
  {
   "cell_type": "markdown",
   "metadata": {},
   "source": [
    "### Sắp xếp list"
   ]
  },
  {
   "cell_type": "code",
   "execution_count": 36,
   "metadata": {},
   "outputs": [
    {
     "name": "stdout",
     "output_type": "stream",
     "text": [
      "None\n",
      "[4, 51, 65, 131, 212, 314, 4134, 7647]\n",
      "-----------------\n",
      "[4, 5, 12, 13, 43, 333, 431, 1434, 3123, 4314]\n",
      "[12, 3123, 43, 431, 5, 13, 4314, 1434, 333, 4]\n",
      "['15', 'ao dai', 'cam', 'cho', 'ga', 'meo']\n"
     ]
    }
   ],
   "source": [
    "#sort sắp xếp lại và thay đổi toàn bộ list\n",
    "#Không return\n",
    "n = [212, 131, 65, 314, 7647, 4, 4134, 51]\n",
    "print(n.sort()) #Không return\n",
    "print(n)  #Thay đổi list gốc\n",
    "\n",
    "#sorted tạo ra một sort list mới, không làm thay đổi list cũ\n",
    "num = [12, 3123, 43, 431, 5, 13, 4314, 1434, 333, 4]\n",
    "txt = [\"cho\", \"meo\", \"ga\", \"cam\", \"ao dai\", \"15\"]\n",
    "print(\"-----------------\")\n",
    "print(sorted(num))\n",
    "print(num)\n",
    "print(sorted(txt))"
   ]
  },
  {
   "cell_type": "markdown",
   "metadata": {},
   "source": [
    "### Làm rỗng list"
   ]
  },
  {
   "cell_type": "code",
   "execution_count": 37,
   "metadata": {},
   "outputs": [
    {
     "name": "stdout",
     "output_type": "stream",
     "text": [
      "[]\n"
     ]
    }
   ],
   "source": [
    "#clear xóa và return list rỗng\n",
    "a = [10, 20, 30, 40, 55]\n",
    "a.clear()\n",
    "print(a)"
   ]
  },
  {
   "cell_type": "markdown",
   "metadata": {},
   "source": [
    "### Copy list"
   ]
  },
  {
   "cell_type": "code",
   "execution_count": 66,
   "metadata": {},
   "outputs": [
    {
     "name": "stdout",
     "output_type": "stream",
     "text": [
      "a is [1, 2, 3, 77]\n",
      "b is [1, 2, 3, 77]\n",
      "[1, 2, 3, 4, 6]\n",
      "[1, 2, 3, 4, 6, 100]\n"
     ]
    }
   ],
   "source": [
    "#copy\n",
    "\n",
    "a = [1, 2, 3]\n",
    "b = a\n",
    "a.append(77)\n",
    "\n",
    "print(f\"a is {a}\")\n",
    "print(f\"b is {b}\")\n",
    "\n",
    "\n",
    "numlist = [1, 2, 3, 4, 6]\n",
    "new_numlist = numlist.copy()\n",
    "numlist.append(100)\n",
    "print(new_numlist)\n",
    "print(numlist)\n",
    "#Các kiểu dữ liệu dạng mảng (list, dic, tup), nếu gán 2 giá trị cho nhau, xử lý một giá trị sẽ gây ảnh hưởng đến giá trị còn lại\n",
    "#Hai biến đều trỏ về cùng một vùng nhớ trên ổ đĩa\n",
    "#Dùng hàm copy để bảo toàn giá trị"
   ]
  },
  {
   "cell_type": "markdown",
   "metadata": {},
   "source": [
    "## tuple"
   ]
  },
  {
   "cell_type": "code",
   "execution_count": 73,
   "metadata": {},
   "outputs": [
    {
     "name": "stdout",
     "output_type": "stream",
     "text": [
      "(1, 2, 3, 4, 5, 6, 7, True, 'Hello')\n",
      "<class 'tuple'>\n",
      "(1, 2, 3, 4, 5)\n",
      "[1, 2, 3, 4, 5]\n",
      "My name is Meo, class is Cho\n"
     ]
    }
   ],
   "source": [
    "a = (1, 2, 3, 4, 5, 6, 7, True, \"Hello\")\n",
    "print(a)\n",
    "print(type(a))\n",
    "\n",
    "#Không thể thay đổi được phần tử trong tuple\n",
    "#Tạo tuple từ list\n",
    "mylist = [1, 2, 3, 4, 5]\n",
    "tuple1 = tuple(mylist)\n",
    "list_again = list(tuple1)\n",
    "print(tuple1)\n",
    "print(list_again)\n",
    "\n",
    "#unpacking\n",
    "info = (\"Cho\", \"Meo\")  #Tạo một tuple để có thể nhập dữ liệu vào và upack ra khi cần\n",
    "course, name = info\n",
    "\n",
    "print(f\"My name is {name}, class is {course}\")"
   ]
  }
 ],
 "metadata": {
  "kernelspec": {
   "display_name": "Python 3 (ipykernel)",
   "language": "python",
   "name": "python3"
  },
  "language_info": {
   "codemirror_mode": {
    "name": "ipython",
    "version": 3
   },
   "file_extension": ".py",
   "mimetype": "text/x-python",
   "name": "python",
   "nbconvert_exporter": "python",
   "pygments_lexer": "ipython3",
   "version": "3.9.6"
  }
 },
 "nbformat": 4,
 "nbformat_minor": 4
}
