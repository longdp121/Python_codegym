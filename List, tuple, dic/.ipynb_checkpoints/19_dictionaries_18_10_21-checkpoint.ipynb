{
 "cells": [
  {
   "cell_type": "code",
   "execution_count": null,
   "id": "7312d7e5",
   "metadata": {},
   "outputs": [],
   "source": [
    "# dict: \n",
    "# khái niệm: tập hợp các các phần tử có thứ tự, mỗi phần tử là một cặp từ khóa và giá trị (key & value)\n",
    "# khởi tạo dict: \n",
    "# các phần từ đặt rong dấu ngoặc nhọn {},và được phân tách bằng dấu phẩy ‘ , ’. \n",
    "# Mỗi phần tử là một cặp khóa và giá trị (key & value) ngăn cách bởi dấu hai chấm  ‘ : ‘.\n",
    "vd:\n",
    " \"\"\"\n",
    "favourite_languages = {\n",
    "    \"jen\":\"python\",\n",
    "    \n",
    "    \"sarah\":\"c\",\n",
    "    \n",
    "    \"edward\":\"ruby\",\n",
    "    \n",
    "    \"phil\":\"python\",    \n",
    "    }\n",
    "\"\"\"   \n",
    "# các khóa (key) : key nên thể hiện ý nghĩa, như khi đặt tên biến\n",
    "# không thể trùng lặp và phải bất biến. kiểu dữ liệu nên đặt số, string, tuple …\n",
    "# Các giá trị (value) trong Dictionary có thể thuộc bất kì kiểu dữ liệu nào (string, số …) và có thể trùng lặp\n"
   ]
  },
  {
   "cell_type": "code",
   "execution_count": null,
   "id": "5f2204cc",
   "metadata": {},
   "outputs": [],
   "source": [
    "# copy()\tPhương thức trả về một bản sao của Dictionary\n",
    "# clear()\tPhương thức xóa các phần tử của Dictionary\n",
    "# pop()\tXóa phần tử với từ khóa chỉ định\n",
    "# fromkeys()\tTrả về một Dictionary với key và value chỉ định\n",
    "# get()\tTrả về  value với key chỉ định\n",
    "# items()\tTrả về một danh sách  là một tuple chứa key, value tương ứng\n",
    "#  keys()\tTrả về một danh sách chứa các key của Dictionary\n",
    "# popitem()\tXóa phần tử cuối cùng của Dictionary\n",
    "# setdefault()\tTrả về value với key chỉ định, nếu không có key thì thì sẽ chèn thêm key và value chỉ định. Giá trị mặc định của value là None\n",
    "# update()\tCập nhật thêm key và value chỉ định\n",
    "# values()\tTrả về một danh sách chứa value của Dictionary\n",
    "# Ngoài ra khi xóa phần tử có thể dùng keyword del\n"
   ]
  },
  {
   "cell_type": "code",
   "execution_count": null,
   "id": "a5b6e585",
   "metadata": {},
   "outputs": [],
   "source": [
    "# Các phương thức sử dụng trong Dictionary"
   ]
  },
  {
   "cell_type": "code",
   "execution_count": 28,
   "id": "5aa1a8a0",
   "metadata": {
    "scrolled": true
   },
   "outputs": [
    {
     "name": "stdout",
     "output_type": "stream",
     "text": [
      "{'color': [1, 2, 3], 'points': 5}\n",
      "[1, 2, 3]\n",
      "5\n"
     ]
    }
   ],
   "source": [
    "# truy xuất đến các phần tử thông qua key\n",
    "my_dict = {\"color\":[1, 2, 3],\"points\":5}\n",
    "\n",
    "print(my_dict)\n",
    "\n",
    "print(my_dict[\"color\"])\n",
    "print(my_dict[\"points\"])\n",
    "\n",
    "# square bracket: ngoặc vuông, colon: dấu hai châm, comma: dấu phẩy, brace: ngoặc nhọn"
   ]
  },
  {
   "cell_type": "code",
   "execution_count": 16,
   "id": "bf92f454",
   "metadata": {},
   "outputs": [
    {
     "name": "stdout",
     "output_type": "stream",
     "text": [
      "{'color': 'green'}\n"
     ]
    }
   ],
   "source": [
    "# delete last item of dict by pop() method \n",
    "# It removes the element which is associated to the specified key\n",
    "# syntax: pop(key[, default]) \n",
    "\n",
    "my_dict = {\"color\":\"green\",\"points\":5}\n",
    "\n",
    "my_dict.pop(\"points\")\n",
    "\n",
    "print(my_dict)"
   ]
  },
  {
   "cell_type": "code",
   "execution_count": 17,
   "id": "7646fa7c",
   "metadata": {},
   "outputs": [
    {
     "name": "stdout",
     "output_type": "stream",
     "text": [
      "{'color': 'green', 'x1': 0, 'y1': 25}\n"
     ]
    }
   ],
   "source": [
    "# thêm phần tử vào dict\n",
    "my_dict[\"x1\"] = 0\n",
    "my_dict[\"y1\"] = 25\n",
    "\n",
    "print(my_dict)"
   ]
  },
  {
   "cell_type": "code",
   "execution_count": 5,
   "id": "b446e33e",
   "metadata": {},
   "outputs": [
    {
     "name": "stdout",
     "output_type": "stream",
     "text": [
      "{'color': 'green', 'points': 5}\n"
     ]
    }
   ],
   "source": [
    "# starting with empty dictionary\n",
    "new_dict = {}\n",
    "\n",
    "# adding new key-value pairs\n",
    "new_dict[\"color\"] = \"green\"\n",
    "new_dict[\"points\"] = 5\n",
    "\n",
    "print(new_dict)\n"
   ]
  },
  {
   "cell_type": "code",
   "execution_count": 18,
   "id": "db712c77",
   "metadata": {},
   "outputs": [
    {
     "name": "stdout",
     "output_type": "stream",
     "text": [
      "original dict {'color': 'green'}\n",
      "modifying dict {'color': 'yellow'}\n"
     ]
    }
   ],
   "source": [
    "# modify dict\n",
    "new_dict2 = {\"color\":\"green\"}\n",
    "\n",
    "print(f\"original dict {new_dict2}\")\n",
    "\n",
    "new_dict2[\"color\"] = \"yellow\"\n",
    "print(f\"modifying dict {new_dict2}\")\n"
   ]
  },
  {
   "cell_type": "code",
   "execution_count": 20,
   "id": "46b7fbb3",
   "metadata": {},
   "outputs": [
    {
     "name": "stdout",
     "output_type": "stream",
     "text": [
      "{'color': 'green', 'x1': 0, 'y1': 25}\n",
      "{'x1': 0, 'y1': 25}\n"
     ]
    }
   ],
   "source": [
    "# Remove key-value pairs\n",
    "print(my_dict)\n",
    "\n",
    "del my_dict[\"color\"]\n",
    "print(my_dict)"
   ]
  },
  {
   "cell_type": "code",
   "execution_count": 15,
   "id": "b1a767c5",
   "metadata": {},
   "outputs": [
    {
     "name": "stdout",
     "output_type": "stream",
     "text": [
      "Original x-position 0\n",
      "new x-position :  2\n"
     ]
    }
   ],
   "source": [
    "new_dict3 = {\"x_position\":0, \"y_position\":25, \"speed\":\"medium\"}\n",
    "print(f\"Original x-position\", str(new_dict3[\"x_position\"]))\n",
    "\n",
    "# Move x-position to the right. Detemine how far to move based on its current speed\n",
    "\n",
    "if new_dict3[\"speed\"] == \"slow\":\n",
    "    x_increment = 1\n",
    "elif new_dict3[\"speed\"] == \"medium\":\n",
    "    x_increment = 2\n",
    "else:\n",
    "    # This mustt be a fast speed\n",
    "    x_increment = 3\n",
    "    \n",
    "# The new position is the old position plus the increment\n",
    "\n",
    "new_dict3[\"x_position\"] = new_dict3[\"x_position\"] + x_increment\n",
    "\n",
    "print(\"new x-position : \", str(new_dict3[\"x_position\"]))\n",
    "    \n",
    "    \n"
   ]
  },
  {
   "cell_type": "code",
   "execution_count": 2,
   "id": "d233f78d",
   "metadata": {},
   "outputs": [
    {
     "name": "stdout",
     "output_type": "stream",
     "text": [
      "\n",
      "Sarah's favourite language is c.\n"
     ]
    }
   ],
   "source": [
    "# A dictionary of similar objects\n",
    "\n",
    "favourite_languages = {\n",
    "    \"jen\":\"python\",\n",
    "    \"sarah\":\"c\",\n",
    "    \"edward\":\"ruby\",\n",
    "    \"phil\":\"python\",}\n",
    "\n",
    "print(\"\\nSarah's favourite language is \" \n",
    "      + favourite_languages[\"sarah\"] \n",
    "      + \".\")\n",
    "\n"
   ]
  },
  {
   "cell_type": "code",
   "execution_count": null,
   "id": "c8f94a12",
   "metadata": {},
   "outputs": [],
   "source": []
  }
 ],
 "metadata": {
  "kernelspec": {
   "display_name": "Python 3 (ipykernel)",
   "language": "python",
   "name": "python3"
  },
  "language_info": {
   "codemirror_mode": {
    "name": "ipython",
    "version": 3
   },
   "file_extension": ".py",
   "mimetype": "text/x-python",
   "name": "python",
   "nbconvert_exporter": "python",
   "pygments_lexer": "ipython3",
   "version": "3.9.6"
  }
 },
 "nbformat": 4,
 "nbformat_minor": 5
}
