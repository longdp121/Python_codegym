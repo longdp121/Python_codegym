{
 "cells": [
  {
   "cell_type": "code",
   "execution_count": 36,
   "id": "8cff4743",
   "metadata": {},
   "outputs": [
    {
     "name": "stdout",
     "output_type": "stream",
     "text": [
      "Nhap chieu cao: 5\n",
      "Nhap chieu rong: 50\n",
      "**************************************************\n",
      "*                                                *\n",
      "*                                                *\n",
      "*                                                *\n",
      "**************************************************\n",
      "Nhap chieu cao: 6\n",
      "Nhap chieu rong: 60\n",
      "************************************************************\n",
      "*                                                          *\n",
      "*                                                          *\n",
      "*                                                          *\n",
      "*                                                          *\n",
      "************************************************************\n"
     ]
    }
   ],
   "source": [
    "#Dung vong lap while\n",
    "h = int(input(\"Nhap chieu cao: \"))\n",
    "w = int(input(\"Nhap chieu rong: \"))\n",
    "txt = \"*\"\n",
    "space = \" \"\n",
    "i = 0\n",
    "while i < h:\n",
    "    if h - i == h or h - i == 1:\n",
    "        shape = txt * w\n",
    "    elif h - i != 0:\n",
    "        shape = txt + (w - 2) * space + txt\n",
    "    i += 1\n",
    "    print(shape)\n",
    "    \n",
    "#Dung vong lap for\n",
    "h = int(input(\"Nhap chieu cao: \"))\n",
    "w = int(input(\"Nhap chieu rong: \"))\n",
    "txt = \"*\"\n",
    "space = \" \"\n",
    "for i in range(h):\n",
    "    if i == 0 or i == h - 1:\n",
    "        shape = txt * w\n",
    "    elif i < h:\n",
    "        shape = txt + (w - 2) * space + txt\n",
    "    print(shape)"
   ]
  }
 ],
 "metadata": {
  "kernelspec": {
   "display_name": "Python 3 (ipykernel)",
   "language": "python",
   "name": "python3"
  },
  "language_info": {
   "codemirror_mode": {
    "name": "ipython",
    "version": 3
   },
   "file_extension": ".py",
   "mimetype": "text/x-python",
   "name": "python",
   "nbconvert_exporter": "python",
   "pygments_lexer": "ipython3",
   "version": "3.9.6"
  }
 },
 "nbformat": 4,
 "nbformat_minor": 5
}
