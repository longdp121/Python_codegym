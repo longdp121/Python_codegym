{
 "cells": [
  {
   "cell_type": "code",
   "execution_count": 6,
   "id": "e0444969",
   "metadata": {},
   "outputs": [
    {
     "name": "stdout",
     "output_type": "stream",
     "text": [
      "Enter any number: 17\n",
      "1\n",
      "2\n",
      "Fizz\n",
      "4\n",
      "Buzz\n",
      "Fizz\n",
      "7\n",
      "8\n",
      "Fizz\n",
      "Buzz\n",
      "11\n",
      "Fizz\n",
      "13\n",
      "14\n",
      "FizzBuzz\n",
      "16\n",
      "17\n"
     ]
    }
   ],
   "source": [
    "num = int(input(\"Enter any number: \"))\n",
    "for i in range (1, num + 1):\n",
    "    if i % 3 == 0 and i % 5 == 0:\n",
    "        display_num = \"FizzBuzz\"\n",
    "    elif i % 3 == 0:\n",
    "        display_num = \"Fizz\"\n",
    "    elif i % 5 == 0:\n",
    "        display_num = \"Buzz\"\n",
    "    else:\n",
    "        display_num = i\n",
    "    print(display_num)"
   ]
  }
 ],
 "metadata": {
  "kernelspec": {
   "display_name": "Python 3 (ipykernel)",
   "language": "python",
   "name": "python3"
  },
  "language_info": {
   "codemirror_mode": {
    "name": "ipython",
    "version": 3
   },
   "file_extension": ".py",
   "mimetype": "text/x-python",
   "name": "python",
   "nbconvert_exporter": "python",
   "pygments_lexer": "ipython3",
   "version": "3.9.6"
  }
 },
 "nbformat": 4,
 "nbformat_minor": 5
}
