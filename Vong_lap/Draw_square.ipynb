{
 "cells": [
  {
   "cell_type": "code",
   "execution_count": 6,
   "id": "f3632a54",
   "metadata": {},
   "outputs": [],
   "source": [
    "import turtle\n",
    "p = turtle.Turtle()\n",
    "p.speed(10)\n",
    "#Khai bao bien\n",
    "h = 100  #Do dai canh\n",
    "edge = 4  #Nhap so canh\n",
    "ang = ((edge - 2) * 180) / edge  #So do mot goc  #Lay 180 - ange de ra goc can re\n",
    "\n",
    "#Ve hinh vuong\n",
    "i = 0\n",
    "while i < edge:\n",
    "    p.fd(h)\n",
    "    p.left(180 - ang)\n",
    "    i += 1\n",
    "#turtle.done()\n"
   ]
  }
 ],
 "metadata": {
  "kernelspec": {
   "display_name": "Python 3 (ipykernel)",
   "language": "python",
   "name": "python3"
  },
  "language_info": {
   "codemirror_mode": {
    "name": "ipython",
    "version": 3
   },
   "file_extension": ".py",
   "mimetype": "text/x-python",
   "name": "python",
   "nbconvert_exporter": "python",
   "pygments_lexer": "ipython3",
   "version": "3.9.6"
  }
 },
 "nbformat": 4,
 "nbformat_minor": 5
}
