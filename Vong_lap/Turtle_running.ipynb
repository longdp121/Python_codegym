{
 "cells": [
  {
   "cell_type": "code",
   "execution_count": 7,
   "id": "c61ead9b",
   "metadata": {},
   "outputs": [],
   "source": [
    "import turtle\n",
    "from random import randint\n",
    "#Khai bao bien\n",
    "p = turtle.Turtle()\n",
    "p.penup()\n",
    "p.goto(-280,0)\n",
    "p.pendown()\n",
    "step = int()  #Buoc di cua rua\n",
    "i = 0\n",
    "while i < 20:\n",
    "    step = randint(0,30)\n",
    "    p.penup()\n",
    "    p.fd(step)\n",
    "    p.pendown()\n",
    "    p.fd(step)\n",
    "    i += 1\n",
    "turtle.done()"
   ]
  }
 ],
 "metadata": {
  "kernelspec": {
   "display_name": "Python 3 (ipykernel)",
   "language": "python",
   "name": "python3"
  },
  "language_info": {
   "codemirror_mode": {
    "name": "ipython",
    "version": 3
   },
   "file_extension": ".py",
   "mimetype": "text/x-python",
   "name": "python",
   "nbconvert_exporter": "python",
   "pygments_lexer": "ipython3",
   "version": "3.9.6"
  }
 },
 "nbformat": 4,
 "nbformat_minor": 5
}
