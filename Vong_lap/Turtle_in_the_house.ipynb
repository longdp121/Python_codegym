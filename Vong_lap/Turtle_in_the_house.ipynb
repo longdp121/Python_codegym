{
 "cells": [
  {
   "cell_type": "code",
   "execution_count": null,
   "id": "d0543345",
   "metadata": {},
   "outputs": [],
   "source": [
    "import turtle\n",
    "from random import randint\n",
    "#Khai bao bien\n",
    "p = turtle.Turtle()\n",
    "r = 200  #Ban kinh duong tron\n",
    "p.penup()\n",
    "p.goto(0,-r)\n",
    "p.pendown()\n",
    "run = int()\n",
    "\n",
    "#Ve hinh tron\n",
    "p.circle(r)\n",
    "p.shape(\"turtle\")\n",
    "p.penup()\n",
    "p.goto(0,0)\n",
    "p.pendown()\n",
    "while run < r:\n",
    "    ang = randint(0,360)  #Random huong di cua rua\n",
    "    run = randint(0, r)  #Radom huong\n",
    "    p.penup()\n",
    "    p.left(ang)\n",
    "    p.fd(run)\n",
    "    p.bk(run)\n",
    "else:\n",
    "    p.goto(0,0)\n",
    "#turtle.done()"
   ]
  }
 ],
 "metadata": {
  "kernelspec": {
   "display_name": "Python 3 (ipykernel)",
   "language": "python",
   "name": "python3"
  },
  "language_info": {
   "codemirror_mode": {
    "name": "ipython",
    "version": 3
   },
   "file_extension": ".py",
   "mimetype": "text/x-python",
   "name": "python",
   "nbconvert_exporter": "python",
   "pygments_lexer": "ipython3",
   "version": "3.9.6"
  }
 },
 "nbformat": 4,
 "nbformat_minor": 5
}
