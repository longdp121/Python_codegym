{
 "cells": [
  {
   "cell_type": "code",
   "execution_count": 19,
   "id": "cdc288fc",
   "metadata": {},
   "outputs": [
    {
     "name": "stdout",
     "output_type": "stream",
     "text": [
      "-18 67\n",
      "-247 184\n"
     ]
    }
   ],
   "source": [
    "import turtle\n",
    "from random import randint\n",
    "import math as m\n",
    "#Begin and draw circle\n",
    "p = turtle.Turtle()\n",
    "p.speed(2)\n",
    "r = 250\n",
    "x_start = 0\n",
    "y_start = -250\n",
    "p.penup()\n",
    "p.goto(x_start, y_start)\n",
    "p.pendown()\n",
    "p.circle(r)\n",
    "\n",
    "#Trap a turtle\n",
    "p.shape(\"turtle\")\n",
    "p.penup()\n",
    "p.goto(0,0)\n",
    "p.goto(10,10)\n",
    "x_run = 0  #x of random turtle run\n",
    "y_run = 0  #y or random turtle run\n",
    "while m.sqrt((m.pow(x_run,2) + m.pow(y_run,2))) < r:\n",
    "    x_run = randint(-r, r)\n",
    "    y_run = randint(-r, r)\n",
    "    p.goto(x_run, y_run)\n",
    "    print(x_run, y_run)\n",
    "else:\n",
    "    p.goto(0,0)\n",
    "#turtle.done()\n"
   ]
  },
  {
   "cell_type": "code",
   "execution_count": null,
   "id": "4848fd22",
   "metadata": {},
   "outputs": [],
   "source": []
  }
 ],
 "metadata": {
  "kernelspec": {
   "display_name": "Python 3 (ipykernel)",
   "language": "python",
   "name": "python3"
  },
  "language_info": {
   "codemirror_mode": {
    "name": "ipython",
    "version": 3
   },
   "file_extension": ".py",
   "mimetype": "text/x-python",
   "name": "python",
   "nbconvert_exporter": "python",
   "pygments_lexer": "ipython3",
   "version": "3.9.6"
  }
 },
 "nbformat": 4,
 "nbformat_minor": 5
}
