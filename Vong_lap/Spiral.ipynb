{
 "cells": [
  {
   "cell_type": "code",
   "execution_count": 8,
   "id": "8d34dd65",
   "metadata": {},
   "outputs": [
    {
     "name": "stdout",
     "output_type": "stream",
     "text": [
      "Enter step: 100\n",
      "Enter spriral size: 2\n"
     ]
    }
   ],
   "source": [
    "import turtle\n",
    "#Khai bao bien\n",
    "p = turtle.Turtle()\n",
    "r = 10  #Ban kinh duong tron\n",
    "step = int(input(\"Enter step: \"))\n",
    "rank = int(input(\"Enter spriral size: \"))\n",
    "#p.penup()\n",
    "#p.pendown()\n",
    "\n",
    "#Ve xoan oc\n",
    "p.left(90)\n",
    "while p.distance((0,0)) < rank:\n",
    "    p.circle(r,180)\n",
    "    r += step\n",
    "turtle.done()\n"
   ]
  }
 ],
 "metadata": {
  "kernelspec": {
   "display_name": "Python 3 (ipykernel)",
   "language": "python",
   "name": "python3"
  },
  "language_info": {
   "codemirror_mode": {
    "name": "ipython",
    "version": 3
   },
   "file_extension": ".py",
   "mimetype": "text/x-python",
   "name": "python",
   "nbconvert_exporter": "python",
   "pygments_lexer": "ipython3",
   "version": "3.9.6"
  }
 },
 "nbformat": 4,
 "nbformat_minor": 5
}
