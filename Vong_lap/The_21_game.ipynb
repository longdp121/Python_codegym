{
 "cells": [
  {
   "cell_type": "code",
   "execution_count": null,
   "id": "88671b9c",
   "metadata": {},
   "outputs": [],
   "source": [
    "import random\n",
    "from random import randint\n",
    "while True:\n",
    "    my_list = [\"Player\", \"Computer\"]\n",
    "    current_player = random.choice(my_list)\n",
    "    print(\"New game!\")\n",
    "    print(f\"Now is {current_player} turn.\")\n",
    "    print(\"_________________________________\")\n",
    "    result = None\n",
    "    current_num = 0\n",
    "    while True:\n",
    "        if current_player == \"Player\":\n",
    "            player_chose = int(input(\"Please choose 1, 2 or 3: \"))\n",
    "            while player_chose not in [1, 2, 3]:\n",
    "                player_chose = int(input(\"Please choose 1, 2 or 3: \"))\n",
    "            current_num += player_chose\n",
    "            print(f\"{current_player} chose {player_chose}. The number is {current_num}\")\n",
    "            if current_num >= 21:\n",
    "                result = \"LOSE\"\n",
    "                print(f\"{current_player} has reached {current_num}, you {result}\")\n",
    "                print(\"_________________________________\")\n",
    "                break\n",
    "            else:\n",
    "                current_player = \"Computer\"\n",
    "        else:\n",
    "            com_chose = randint(1,3)\n",
    "            current_num += com_chose\n",
    "            print(f\"{current_player} chose {com_chose}. The number is {current_num}\")\n",
    "            if current_num >= 21:\n",
    "                result = \"WIN\"\n",
    "                print(f\"{current_player} has reached {current_num}, you {result}\")\n",
    "                print(\"_________________________________\")\n",
    "                break\n",
    "            else:\n",
    "                current_player = \"Player\"\n",
    "    if result == \"LOSE\":\n",
    "        continue\n",
    "    else:\n",
    "        play_again = str(input(\"Do you want to play again? y/n: \"))\n",
    "        while play_again not in [\"y\", \"n\"]:\n",
    "            play_again = str(input(\"Do you want to play again? y/n: \"))\n",
    "        if play_again == \"y\":\n",
    "            continue\n",
    "        else:\n",
    "            break\n",
    "print()\n",
    "print(\"Game over!\")"
   ]
  },
  {
   "cell_type": "code",
   "execution_count": null,
   "id": "6e6acbf7",
   "metadata": {},
   "outputs": [],
   "source": []
  }
 ],
 "metadata": {
  "kernelspec": {
   "display_name": "Python 3 (ipykernel)",
   "language": "python",
   "name": "python3"
  },
  "language_info": {
   "codemirror_mode": {
    "name": "ipython",
    "version": 3
   },
   "file_extension": ".py",
   "mimetype": "text/x-python",
   "name": "python",
   "nbconvert_exporter": "python",
   "pygments_lexer": "ipython3",
   "version": "3.9.6"
  }
 },
 "nbformat": 4,
 "nbformat_minor": 5
}
