{
 "cells": [
  {
   "cell_type": "code",
   "execution_count": null,
   "id": "7c279d99",
   "metadata": {},
   "outputs": [],
   "source": [
    "'''\n",
    "Warm-up: In ra 10 số tự nhiên đầu tiên từ 1 đến 10\n",
    "'''\n",
    "for i in range (1, 11):\n",
    "    print(i)"
   ]
  },
  {
   "cell_type": "code",
   "execution_count": null,
   "id": "66918d7e",
   "metadata": {},
   "outputs": [],
   "source": [
    "'''\n",
    "Bài 1: Nhập vào số nguyên dương n. Tính tổng các số tự nhiên từ 1 đến n.\n",
    "'''\n",
    "n = int(input(\"Enter any number: \"))\n",
    "for i in range (1, n):\n",
    "    step = i + 1\n",
    "    total = i + step\n",
    "    i += 1\n",
    "print(f\"Tong cac so tu 1 den {n} la {total}\")"
   ]
  },
  {
   "cell_type": "code",
   "execution_count": null,
   "id": "be255bdc",
   "metadata": {},
   "outputs": [],
   "source": [
    "'''\n",
    "Bài 2: Nhập vào số nguyên dương n. In ra bảng cửu chương từ 1 đến 10 của n.\n",
    "'''\n",
    "n = int(input(\"Enter any number: \"))\n",
    "print(f\"Bang cua chuong {n}\")\n",
    "for i in range (1,11):\n",
    "    total = n * i\n",
    "    print(f\"{n} x {i} = {total}\")"
   ]
  },
  {
   "cell_type": "code",
   "execution_count": null,
   "id": "681c029c",
   "metadata": {},
   "outputs": [],
   "source": [
    "'''\n",
    "Bài 3: Nhập vào số nguyên dương n. Đếm xem n có bao nhiêu chữ số.\n",
    "'''\n",
    "n = int(input(\"Enter any number: \"))\n",
    "count = 0\n",
    "while n > 0:\n",
    "    n //= 10\n",
    "    count += 1\n",
    "print(f\"{n} co {count} chu so\")"
   ]
  },
  {
   "cell_type": "code",
   "execution_count": null,
   "id": "7eb58122",
   "metadata": {},
   "outputs": [],
   "source": [
    "'''\n",
    "Bài 4: Nhập vào số nguyên dương n. Tính tổng các chữ số của n.\n",
    "'''\n",
    "n = int(input(\"Enter any number: \"))\n",
    "total = 0\n",
    "while n > 0:\n",
    "    total = total + n // 10\n",
    "print(total)"
   ]
  },
  {
   "cell_type": "code",
   "execution_count": 6,
   "id": "cf0da697",
   "metadata": {},
   "outputs": [
    {
     "name": "stdout",
     "output_type": "stream",
     "text": [
      "Enter any number: 9\n",
      "1\n",
      "1 2\n",
      "1 2 3\n",
      "1 2 3 4\n",
      "1 2 3 4 5\n",
      "1 2 3 4 5 6\n",
      "1 2 3 4 5 6 7\n",
      "1 2 3 4 5 6 7 8\n",
      "1 2 3 4 5 6 7 8 9\n"
     ]
    }
   ],
   "source": [
    "'''\n",
    "Bài 5: Nhập vào số nguyên dương n. Sử dụng cấu trúc vòng lặp lồng nhau(nested for loop) để in ra tam giác có dạng như sau:\n",
    "1\n",
    "1 2\n",
    "1 2 3\n",
    "1 2 3 4\n",
    "1 2 3 4 5\n",
    "'''\n",
    "n = int(input(\"Enter any number: \"))\n",
    "for i in range (1, n + 1):\n",
    "    for count in range (1, i):\n",
    "        print(count, end = \" \")\n",
    "    print(i)"
   ]
  },
  {
   "cell_type": "code",
   "execution_count": 20,
   "id": "1ac5d880",
   "metadata": {},
   "outputs": [
    {
     "name": "stdout",
     "output_type": "stream",
     "text": [
      "Enter any number: 5\n",
      "5 4 3 2 1\n",
      "4 3 2 1\n",
      "3 2 1\n",
      "2 1\n",
      "1\n"
     ]
    }
   ],
   "source": [
    "'''\n",
    "Bài 6: Nhập vào số nguyên dương n. Sử dụng cấu trúc vòng lặp lồng nhau(nested for loop) để in ra tam giác có dạng như sau:\n",
    "5 4 3 2 1\n",
    "4 3 2 1\n",
    "3 2 1\n",
    "2 1\n",
    "1\n",
    "'''\n",
    "n = int(input(\"Enter any number: \"))\n",
    "for i in range (n, 0, -1):\n",
    "    for count in range (i, 1, -1):\n",
    "        print(count, end = \" \")\n",
    "    print(1)"
   ]
  },
  {
   "cell_type": "code",
   "execution_count": null,
   "id": "5a16aa66",
   "metadata": {},
   "outputs": [],
   "source": [
    "'''\n",
    "Bài 7: Nhập vào một số nguyên dương n. Tính giai thừa của n.\n",
    "Note: Giai thừa của n được tính bằng công thức: n! = n*(n - 1)*(n - 2)*...*1\n",
    "Ví dụ: 5! = 5 × 4 × 3 × 2 × 1 = 120\n",
    "'''\n",
    "n = int(input(\"Enter any number: \"))\n",
    "num = 1\n",
    "for i in range (2, n + 1):\n",
    "    num = num * i\n",
    "print(f\"{n}! = {num}\")"
   ]
  },
  {
   "cell_type": "code",
   "execution_count": null,
   "id": "8dfa4890",
   "metadata": {},
   "outputs": [],
   "source": [
    "'''\n",
    "Bài 8: Viết chương trình nhập vào một số nguyên dương n và in ra số đảo ngược của n.\n",
    "Ví dụ:\n",
    "Input: 76542\n",
    "Output: 24567\n",
    "'''\n",
    "n = int(input(\"Enter any number: \"))\n",
    "st_n = str(n)\n",
    "i = 0\n",
    "while i > -len(st_n):\n",
    "    i -= 1\n",
    "    re_n = st_n[i]\n",
    "    print(f\"{re_n}\", end = \"\")"
   ]
  },
  {
   "cell_type": "code",
   "execution_count": null,
   "id": "326700db",
   "metadata": {},
   "outputs": [],
   "source": [
    "'''\n",
    "Bài 9: Viết phần mềm nhập vào số n (từ 1 đến 9) và in ra tam giác có dạng như sau:\n",
    "1\n",
    "22\n",
    "333\n",
    "4444\n",
    "55555\n",
    "666666\n",
    "7777777\n",
    "88888888\n",
    "999999999\n",
    "'''"
   ]
  },
  {
   "cell_type": "code",
   "execution_count": null,
   "id": "bfe2e17f",
   "metadata": {},
   "outputs": [],
   "source": [
    "'''\n",
    "Bonus: Vẽ xe lửa\n",
    "What is the size of your train? 1\n",
    " ______________________>__\n",
    "|]||[]_[]_[]|||[]_[]_[]||[|\n",
    "\\==o-o======o-o======o-o==/\n",
    "\n",
    "What is the size of your train? 2\n",
    " _________________________   ______________________>__\n",
    "|]||[]_[]_[]|||[]_[]_[]||[| |]||[]_[]_[]|||[]_[]_[]||[|\n",
    "\\==o-o======o-o======o-o==/_\\==o-o======o-o======o-o==/\n",
    "'''"
   ]
  }
 ],
 "metadata": {
  "kernelspec": {
   "display_name": "Python 3 (ipykernel)",
   "language": "python",
   "name": "python3"
  },
  "language_info": {
   "codemirror_mode": {
    "name": "ipython",
    "version": 3
   },
   "file_extension": ".py",
   "mimetype": "text/x-python",
   "name": "python",
   "nbconvert_exporter": "python",
   "pygments_lexer": "ipython3",
   "version": "3.9.6"
  }
 },
 "nbformat": 4,
 "nbformat_minor": 5
}
