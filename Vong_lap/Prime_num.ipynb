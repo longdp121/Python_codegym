{
 "cells": [
  {
   "cell_type": "code",
   "execution_count": null,
   "id": "9970e8ef",
   "metadata": {
    "scrolled": true
   },
   "outputs": [
    {
     "name": "stdout",
     "output_type": "stream",
     "text": [
      "Please choose mod:\n",
      "F to find every prime number in a range\n",
      "C to check if this is a prime number\n",
      "E to exit\n",
      "F\n",
      "----------------------------------\n",
      "Find every prime number in a range\n",
      "Range begin: 2\n",
      "Range end: 24\n",
      "2 3 5 7 11 13 17 19 23 \n",
      "Total prime number between 2 and 24: 9\n",
      "----------------------------------\n",
      "Duration: 0:00:00.001996\n",
      "\n"
     ]
    }
   ],
   "source": [
    "#### '''\n",
    "from datetime import datetime\n",
    "\n",
    "op = None\n",
    "while op != \"END\":\n",
    "    mod = str(input(\"Please choose mod:\\nF to find every prime number in a range\\nC to check if this is a prime number\\nE to exit\\n\"))\n",
    "    \n",
    "    #Find module\n",
    "    if mod == \"F\":\n",
    "        print(\"----------------------------------\")\n",
    "        print(\"Find every prime number in a range\")\n",
    "        count = 0\n",
    "        num_min = int(input(\"Range begin: \"))\n",
    "        num_max = int(input(\"Range end: \"))\n",
    "        start_time = datetime.now()\n",
    "        for num in range (num_min,num_max):\n",
    "            if num < 2:\n",
    "                pass\n",
    "            elif num == 2:\n",
    "                count += 1\n",
    "                print(f\"{num}\", end = \" \")\n",
    "            else:\n",
    "                i = 1\n",
    "                while i < (num - 1):\n",
    "                    i += 1\n",
    "                    check = num % i\n",
    "                    if check == 0:\n",
    "                        break\n",
    "                else:\n",
    "                    count += 1\n",
    "                    print(f\"{num}\", end = \" \")\n",
    "\n",
    "        print(\"\")\n",
    "        print(f\"Total prime number between {num_min} and {num_max}: {count}\")\n",
    "        print(\"----------------------------------\")\n",
    "        end_time = datetime.now()\n",
    "        print('Duration: {}'.format(end_time - start_time))\n",
    "        print(\"\")\n",
    "        \n",
    "        \n",
    "    #Check module\n",
    "    elif mod == \"C\":\n",
    "        print(\"----------------------------------\")\n",
    "        print(\"Check if this is a prime number\")\n",
    "        num = int(input(\"Enter any number: \"))\n",
    "        start_time = datetime.now()\n",
    "        if num < 2:\n",
    "            num_type = \"is NOT prime number\"\n",
    "            print(f\"{num} {num_type}\")\n",
    "            print(\"----------------------------------\")\n",
    "        elif num == 2:\n",
    "            num_type = \"is prime number\"\n",
    "            print(f\"{num} {num_type}\")\n",
    "            print(\"----------------------------------\")\n",
    "        else:\n",
    "            i = 1\n",
    "            while i < (num - 1):\n",
    "                i += 1\n",
    "                check = num % i\n",
    "                if check == 0:\n",
    "                    num_type = \"is NOT prime number\"\n",
    "                    break\n",
    "                else:\n",
    "                    num_type = \"is prime number\"\n",
    "            print(f\"{num} {num_type}\")\n",
    "            print(\"----------------------------------\")\n",
    "        end_time = datetime.now()\n",
    "        print('Duration: {}'.format(end_time - start_time))\n",
    "        print(\"\")\n",
    "    elif mod == \"E\":\n",
    "        op = \"END\"\n",
    "    else:\n",
    "        continue"
   ]
  },
  {
   "cell_type": "code",
   "execution_count": null,
   "id": "84f0d04c",
   "metadata": {},
   "outputs": [],
   "source": []
  }
 ],
 "metadata": {
  "kernelspec": {
   "display_name": "Python 3 (ipykernel)",
   "language": "python",
   "name": "python3"
  },
  "language_info": {
   "codemirror_mode": {
    "name": "ipython",
    "version": 3
   },
   "file_extension": ".py",
   "mimetype": "text/x-python",
   "name": "python",
   "nbconvert_exporter": "python",
   "pygments_lexer": "ipython3",
   "version": "3.9.6"
  }
 },
 "nbformat": 4,
 "nbformat_minor": 5
}
