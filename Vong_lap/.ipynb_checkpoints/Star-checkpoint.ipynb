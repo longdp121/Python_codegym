{
 "cells": [
  {
   "cell_type": "code",
   "execution_count": 25,
   "id": "c6c4b074",
   "metadata": {},
   "outputs": [
    {
     "name": "stdout",
     "output_type": "stream",
     "text": [
      "10\n"
     ]
    }
   ],
   "source": [
    "import turtle\n",
    "#Khai bao bien\n",
    "p = turtle.Turtle()\n",
    "s = turtle.Screen()\n",
    "s.bgcolor(\"black\")\n",
    "p.speed(10)\n",
    "size = 700  #Do dai\n",
    "step = 5  #Do quay goc\n",
    "color = (\"#F79940\", \"#F7E940\", \"#93F740\", \"#40F7BD\", \"#E440F7\", \"#F74090\", \"#F7404B\")\n",
    "rang = int(360 / (step * len(color)))  #So vong lap\n",
    "print(rang)\n",
    "\n",
    "#Ve sao\n",
    "p.left(144)\n",
    "for count in range (11):\n",
    "    for deco in color:\n",
    "        p.color(deco)\n",
    "        for i in range (5):\n",
    "            p.fd(size)\n",
    "            p.right(144)\n",
    "        p.right(step)\n",
    "p.penup()\n",
    "p.goto(-300,-300)\n",
    "\n",
    "    \n",
    "turtle.done()\n"
   ]
  }
 ],
 "metadata": {
  "kernelspec": {
   "display_name": "Python 3 (ipykernel)",
   "language": "python",
   "name": "python3"
  },
  "language_info": {
   "codemirror_mode": {
    "name": "ipython",
    "version": 3
   },
   "file_extension": ".py",
   "mimetype": "text/x-python",
   "name": "python",
   "nbconvert_exporter": "python",
   "pygments_lexer": "ipython3",
   "version": "3.9.6"
  }
 },
 "nbformat": 4,
 "nbformat_minor": 5
}
