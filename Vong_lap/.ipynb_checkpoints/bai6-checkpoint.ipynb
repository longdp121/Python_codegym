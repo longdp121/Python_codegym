{
 "cells": [
  {
   "cell_type": "code",
   "execution_count": 2,
   "id": "ec9b6d0e",
   "metadata": {},
   "outputs": [
    {
     "name": "stdout",
     "output_type": "stream",
     "text": [
      "Mời lựa chọn(1 - búa, 2 - kéo, 3 - bao): 5\n",
      "Bạn phải nhập số từ 1 đến 3\n",
      "Mời lựa chọn(1 - búa, 2 - kéo, 3 - bao): h\n",
      "Bạn phải nhập số từ 1 đến 3\n",
      "Mời lựa chọn(1 - búa, 2 - kéo, 3 - bao): h\n",
      "Bạn phải nhập số từ 1 đến 3\n",
      "Mời lựa chọn(1 - búa, 2 - kéo, 3 - bao): rt\n",
      "Bạn phải nhập số từ 1 đến 3\n",
      "Mời lựa chọn(1 - búa, 2 - kéo, 3 - bao): 2\n",
      "Máy tính chọn : 2\n",
      "Người chơi hòa\n",
      "Mời lựa chọn(1 - búa, 2 - kéo, 3 - bao): 3\n",
      "Máy tính chọn : 2\n",
      "Người chơi thua\n",
      "Mời lựa chọn(1 - búa, 2 - kéo, 3 - bao): gf\n",
      "Bạn phải nhập số từ 1 đến 3\n",
      "Mời lựa chọn(1 - búa, 2 - kéo, 3 - bao): 1\n",
      "Máy tính chọn : 3\n",
      "Người chơi thua\n",
      "Mời lựa chọn(1 - búa, 2 - kéo, 3 - bao): df\n",
      "Bạn phải nhập số từ 1 đến 3\n",
      "Mời lựa chọn(1 - búa, 2 - kéo, 3 - bao): 1\n",
      "Máy tính chọn : 2\n",
      "Người chơi thắng\n"
     ]
    }
   ],
   "source": [
    "### from random import randint \n",
    "\n",
    "i = 0\n",
    "n = 1\n",
    "while  i < n:\n",
    "    try :\n",
    "        nguoi = int(input(\"Mời lựa chọn(1 - búa, 2 - kéo, 3 - bao): \"))\n",
    "        if nguoi < 1 or nguoi > 3 :\n",
    "            print(\"Bạn phải nhập số từ 1 đến 3\")\n",
    "        else :\n",
    "            may = randint(1,3)\n",
    "            if nguoi == 1:\n",
    "                if may == 1:\n",
    "                    print(\"Máy tính chọn : 1\")\n",
    "                    print(\"Người chơi hòa\")\n",
    "                elif may == 2:\n",
    "                    print(\"Máy tính chọn : 2\")\n",
    "                    print(\"Người chơi thắng\")\n",
    "                    break\n",
    "                else :\n",
    "                    print(\"Máy tính chọn : 3\")\n",
    "                    print(\"Người chơi thua\")\n",
    "            elif nguoi == 2:\n",
    "                if may == 1:\n",
    "                    print(\"Máy tính chọn : 1\")\n",
    "                    print(\"Người chơi thua\")\n",
    "                elif may == 2:\n",
    "                    print(\"Máy tính chọn : 2\")\n",
    "                    print(\"Người chơi hòa\")\n",
    "                    \n",
    "                else :\n",
    "                    print(\"Máy tính chọn : 3\")\n",
    "                    print(\"Người chơi thắng\")\n",
    "                    break    \n",
    "            else :\n",
    "                if may == 1:\n",
    "                    print(\"Máy tính chọn : 1\")\n",
    "                    print(\"Người chơi thắng\")\n",
    "                    break\n",
    "                elif may == 2:\n",
    "                    print(\"Máy tính chọn : 2\")\n",
    "                    print(\"Người chơi thua\")\n",
    "                    \n",
    "                else :\n",
    "                    print(\"Máy tính chọn : 3\")\n",
    "                    print(\"Người chơi hòa\")\n",
    "            \n",
    "    except :\n",
    "        print(\"Bạn phải nhập số từ 1 đến 3\")"
   ]
  }
 ],
 "metadata": {
  "interpreter": {
   "hash": "1ddd104f8c1b40b6c283ac6bbabb1512e3528e8697158f26e36b9cf2519c673b"
  },
  "kernelspec": {
   "display_name": "Python 3 (ipykernel)",
   "language": "python",
   "name": "python3"
  },
  "language_info": {
   "codemirror_mode": {
    "name": "ipython",
    "version": 3
   },
   "file_extension": ".py",
   "mimetype": "text/x-python",
   "name": "python",
   "nbconvert_exporter": "python",
   "pygments_lexer": "ipython3",
   "version": "3.9.6"
  }
 },
 "nbformat": 4,
 "nbformat_minor": 5
}
