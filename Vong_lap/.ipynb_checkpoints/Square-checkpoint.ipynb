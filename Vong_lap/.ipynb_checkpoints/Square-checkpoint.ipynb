{
 "cells": [
  {
   "cell_type": "code",
   "execution_count": 1,
   "id": "a53a9022",
   "metadata": {},
   "outputs": [],
   "source": [
    "import turtle\n",
    "#Khai bao bien\n",
    "p = turtle.Turtle()\n",
    "a = 100  #Do dai canh\n",
    "\n",
    "#Ve hinh vuong\n",
    "for i in range (4):\n",
    "    p.fd(a)\n",
    "    p.left(90)\n",
    "turtle.done()"
   ]
  }
 ],
 "metadata": {
  "kernelspec": {
   "display_name": "Python 3 (ipykernel)",
   "language": "python",
   "name": "python3"
  },
  "language_info": {
   "codemirror_mode": {
    "name": "ipython",
    "version": 3
   },
   "file_extension": ".py",
   "mimetype": "text/x-python",
   "name": "python",
   "nbconvert_exporter": "python",
   "pygments_lexer": "ipython3",
   "version": "3.9.6"
  }
 },
 "nbformat": 4,
 "nbformat_minor": 5
}
