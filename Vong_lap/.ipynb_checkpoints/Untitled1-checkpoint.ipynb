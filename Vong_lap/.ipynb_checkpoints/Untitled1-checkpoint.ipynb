{
 "cells": [
  {
   "cell_type": "code",
   "execution_count": null,
   "id": "185f0e6f",
   "metadata": {},
   "outputs": [],
   "source": [
    "import random\n",
    "\n",
    "while True:\n",
    "    current_number = 1\n",
    "\n",
    "    if random.randint(0, 1) == 0:\n",
    "        current_player = \"human\"\n",
    "    else:\n",
    "        current_player = \"computer\"\n",
    "\n",
    "    while current_number <= 21:\n",
    "        print(\"The current number is \" + str(current_number) + \".\")\n",
    "        print()\n",
    "        if current_player == \"human\":\n",
    "            print(\"Add 1, 2, or 3. Do not pass 21. The player who lands on 21 loses.\")\n",
    "            player_choice = \"\"\n",
    "            while player_choice not in [\"1\", \"2\", \"3\"]:\n",
    "                player_choice = input(\"What will you add? \")\n",
    "\n",
    "            player_choice = int(player_choice)\n",
    "            current_number = current_number + player_choice\n",
    "\n",
    "            if current_number >= 21:\n",
    "                print(\"The current number is \" + str(current_number) + \".\")\n",
    "                print(\"Sorry, you lose.\")\n",
    "                break\n",
    "            else:\n",
    "                current_player = \"computer\"\n",
    "        else:\n",
    "            computer_choice = random.randint(1, 3)\n",
    "            print(\"Computer turn. The computer choses \" + str(computer_choice) + \".\")\n",
    "            current_number = current_number + computer_choice\n",
    "\n",
    "            if current_number >= 21:\n",
    "                print(\"The current number is \" + str(current_number) + \".\")\n",
    "                print(\"Well done, you won!\")\n",
    "                break\n",
    "            else:\n",
    "                current_player = \"human\"\n",
    "    play_again = input(\"Do you want to play again? \")\n",
    "    if play_again.lower().startswith(\"y\"):\n",
    "        continue\n",
    "    else:\n",
    "        print(\"Goodbye\")\n",
    "        break"
   ]
  },
  {
   "cell_type": "code",
   "execution_count": null,
   "id": "cd369142",
   "metadata": {},
   "outputs": [],
   "source": []
  }
 ],
 "metadata": {
  "kernelspec": {
   "display_name": "Python 3 (ipykernel)",
   "language": "python",
   "name": "python3"
  },
  "language_info": {
   "codemirror_mode": {
    "name": "ipython",
    "version": 3
   },
   "file_extension": ".py",
   "mimetype": "text/x-python",
   "name": "python",
   "nbconvert_exporter": "python",
   "pygments_lexer": "ipython3",
   "version": "3.9.6"
  }
 },
 "nbformat": 4,
 "nbformat_minor": 5
}
