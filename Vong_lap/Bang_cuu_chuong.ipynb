{
 "cells": [
  {
   "cell_type": "code",
   "execution_count": null,
   "id": "f0543401",
   "metadata": {},
   "outputs": [],
   "source": [
    "for count in range (1,10):\n",
    "    print(f\"Bang cuu chuong {count}\")\n",
    "    i = 0\n",
    "    while i < 11:\n",
    "        cal = count * i\n",
    "        print(f\"{count} x {i} = {cal}\")\n",
    "        i += 1\n",
    "    print(\"---------------\")"
   ]
  },
  {
   "cell_type": "code",
   "execution_count": 30,
   "id": "f1e60989",
   "metadata": {},
   "outputs": [
    {
     "name": "stdout",
     "output_type": "stream",
     "text": [
      "1\n",
      "1 2 3 4 5 6 7 8 9 2\n",
      "4 6 8 10 12 14 16 18 3\n",
      "9 12 15 18 21 24 27 4\n",
      "16 20 24 28 32 36 5\n",
      "25 30 35 40 45 6\n",
      "36 42 48 54 7\n",
      "49 56 63 8\n",
      "64 72 9\n",
      "81 "
     ]
    }
   ],
   "source": []
  }
 ],
 "metadata": {
  "kernelspec": {
   "display_name": "Python 3 (ipykernel)",
   "language": "python",
   "name": "python3"
  },
  "language_info": {
   "codemirror_mode": {
    "name": "ipython",
    "version": 3
   },
   "file_extension": ".py",
   "mimetype": "text/x-python",
   "name": "python",
   "nbconvert_exporter": "python",
   "pygments_lexer": "ipython3",
   "version": "3.9.6"
  }
 },
 "nbformat": 4,
 "nbformat_minor": 5
}
