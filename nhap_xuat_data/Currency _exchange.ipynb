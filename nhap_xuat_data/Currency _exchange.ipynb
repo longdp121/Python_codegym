{
 "cells": [
  {
   "cell_type": "code",
   "execution_count": 14,
   "id": "5aa8f14d",
   "metadata": {},
   "outputs": [
    {
     "name": "stdout",
     "output_type": "stream",
     "text": [
      "Nhap so tien:100\n",
      "Nhap don vi tien te (VND or USD):USD\n",
      "100.0 USD tuong duong 2,350,000.0 VND\n"
     ]
    }
   ],
   "source": [
    "ex_rate = 23500  #Gia tri quy doi 1 USD = 23500 VND\n",
    "amount = float(input(\"Nhap so tien:\"))\n",
    "unit = str(input(\"Nhap don vi tien te (VND or USD):\"))\n",
    "if unit == \"USD\":  #Quy doi USD sang VND\n",
    "    VND_amount = amount*ex_rate\n",
    "    print(f\"{amount} USD tuong duong {round(VND_amount,2):,} VND\")\n",
    "elif unit == \"VND\":  #Quy doi VND sang USD\n",
    "    USD_amount = amount/ex_rate\n",
    "    print(f\"{amount} VND tuong duong {round(USD_amount,5):,} USD\")\n",
    "else:\n",
    "    print(\"Nhap sai, vui long nhap USD hoac VND\")"
   ]
  }
 ],
 "metadata": {
  "kernelspec": {
   "display_name": "Python 3 (ipykernel)",
   "language": "python",
   "name": "python3"
  },
  "language_info": {
   "codemirror_mode": {
    "name": "ipython",
    "version": 3
   },
   "file_extension": ".py",
   "mimetype": "text/x-python",
   "name": "python",
   "nbconvert_exporter": "python",
   "pygments_lexer": "ipython3",
   "version": "3.9.6"
  }
 },
 "nbformat": 4,
 "nbformat_minor": 5
}
