{
 "cells": [
  {
   "cell_type": "code",
   "execution_count": 6,
   "id": "a801fd97",
   "metadata": {},
   "outputs": [
    {
     "name": "stdout",
     "output_type": "stream",
     "text": [
      "Chieu dai hinh chu nhat:100\n",
      "Chieu rong hinh chu nhat:200\n",
      "Nhap color code:#961C9C\n",
      "Chu vi cua hinh chu nhat bang 600.0\n",
      "Dien tich cua hinh chu nhat bang 20000.0\n"
     ]
    }
   ],
   "source": [
    "import turtle\n",
    "#Khai bao bien\n",
    "h = float(input(\"Chieu dai hinh chu nhat:\"))\n",
    "w = float(input(\"Chieu rong hinh chu nhat:\"))\n",
    "color = str(input(\"Nhap color code:\"))\n",
    "#Ve hinh chu nhat\n",
    "p = turtle.Turtle()\n",
    "p.pensize = 1\n",
    "p.speed = 10\n",
    "\n",
    "p.fillcolor(color)\n",
    "p.begin_fill()\n",
    "for i in range (2):\n",
    "    p.fd(w)\n",
    "    p.left(90)\n",
    "    p.fd(h)\n",
    "    p.left(90)\n",
    "p.end_fill()\n",
    "#turtle.done()\n",
    "#Tinh chu vi hinh chu nhat\n",
    "P = 2*(h + w)\n",
    "print(f\"Chu vi cua hinh chu nhat bang {P}\")\n",
    "#Tinh dien tich hinh chu nhat\n",
    "S = h*w\n",
    "print(f\"Dien tich cua hinh chu nhat bang {S}\")"
   ]
  }
 ],
 "metadata": {
  "kernelspec": {
   "display_name": "Python 3 (ipykernel)",
   "language": "python",
   "name": "python3"
  },
  "language_info": {
   "codemirror_mode": {
    "name": "ipython",
    "version": 3
   },
   "file_extension": ".py",
   "mimetype": "text/x-python",
   "name": "python",
   "nbconvert_exporter": "python",
   "pygments_lexer": "ipython3",
   "version": "3.9.6"
  }
 },
 "nbformat": 4,
 "nbformat_minor": 5
}
