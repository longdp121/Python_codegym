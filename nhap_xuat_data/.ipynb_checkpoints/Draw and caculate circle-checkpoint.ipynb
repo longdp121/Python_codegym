{
 "cells": [
  {
   "cell_type": "code",
   "execution_count": null,
   "id": "55f925a3",
   "metadata": {
    "scrolled": true
   },
   "outputs": [
    {
     "name": "stdout",
     "output_type": "stream",
     "text": [
      "Nhap ban kinh duong tron: 80\n",
      "Chu vi hinh tron ban kinh 80.0 băng 502.65\n",
      "Sien tich hinh tron ban kinh 80.0 bang 20106.19\n"
     ]
    }
   ],
   "source": [
    "import turtle\n",
    "import math\n",
    "#Khai bao bien\n",
    "r = float(input(\"Nhap ban kinh duong tron: \"))\n",
    "pi = math.pi\n",
    "p = turtle.Turtle()\n",
    "#Tinh chu vi\n",
    "C = 2*pi*r\n",
    "print(f\"Chu vi hinh tron ban kinh {r} băng {round(C,2)}\")\n",
    "#Tinh dien tich\n",
    "S = pow(r,2)*pi\n",
    "print(f\"Sien tich hinh tron ban kinh {r} bang {round(S,2)}\")\n",
    "#Ve hinh tron ban kỉnh\n",
    "p.circle(r)\n",
    "turtle.done()"
   ]
  }
 ],
 "metadata": {
  "kernelspec": {
   "display_name": "Python 3 (ipykernel)",
   "language": "python",
   "name": "python3"
  },
  "language_info": {
   "codemirror_mode": {
    "name": "ipython",
    "version": 3
   },
   "file_extension": ".py",
   "mimetype": "text/x-python",
   "name": "python",
   "nbconvert_exporter": "python",
   "pygments_lexer": "ipython3",
   "version": "3.9.6"
  }
 },
 "nbformat": 4,
 "nbformat_minor": 5
}
