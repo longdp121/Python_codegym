{
 "cells": [
  {
   "cell_type": "code",
   "execution_count": 25,
   "id": "7550c594",
   "metadata": {},
   "outputs": [],
   "source": [
    "import turtle\n",
    "import math\n",
    "\n",
    "p = turtle.Turtle()\n",
    "p.pensize(1)\n",
    "p.speed(10)\n",
    "#Khai bao bien\n",
    "A = 300\n",
    "b = A/math.sqrt(2) - A/2\n",
    "a = (A - 2*b)/2\n",
    "x = -30\n",
    "y = -30\n",
    "ang = 45\n",
    "p.left(90)\n",
    "p.penup()\n",
    "for i in range(2):\n",
    "    p.goto(x,y)\n",
    "    p.pendown()\n",
    "    p.penup()\n",
    "    p.fd(A/2)\n",
    "    p.right(90)\n",
    "    p.fd(A/2)\n",
    "    p.pendown()\n",
    "    for i in range(5):\n",
    "        p.right(90)\n",
    "        p.fd(a)\n",
    "       # p.penup()\n",
    "        p.fd(2*b)\n",
    "       # p.pendown()\n",
    "        p.fd(a)\n",
    "    p.right(90)\n",
    "    p.fd(a)\n",
    "    p.penup()\n",
    "    p.fd(A/2 - a)\n",
    "    p.penup()\n",
    "    p.right(90)\n",
    "    p.fd(A/2)\n",
    "    p.pendown()\n",
    "    p.right(ang)\n",
    "    p.penup()\n",
    "    p.goto(-300,-300)\n",
    "\n",
    "\n",
    "turtle.done()\n"
   ]
  }
 ],
 "metadata": {
  "kernelspec": {
   "display_name": "Python 3 (ipykernel)",
   "language": "python",
   "name": "python3"
  },
  "language_info": {
   "codemirror_mode": {
    "name": "ipython",
    "version": 3
   },
   "file_extension": ".py",
   "mimetype": "text/x-python",
   "name": "python",
   "nbconvert_exporter": "python",
   "pygments_lexer": "ipython3",
   "version": "3.9.6"
  }
 },
 "nbformat": 4,
 "nbformat_minor": 5
}
