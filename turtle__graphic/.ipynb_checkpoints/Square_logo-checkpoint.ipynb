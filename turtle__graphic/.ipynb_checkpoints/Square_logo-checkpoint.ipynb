{
 "cells": [
  {
   "cell_type": "code",
   "execution_count": 12,
   "id": "34be4f9b",
   "metadata": {},
   "outputs": [
    {
     "name": "stdout",
     "output_type": "stream",
     "text": [
      "37.279220613578545\n",
      "52.720779386421455\n",
      "74.55844122715709\n"
     ]
    }
   ],
   "source": [
    "import math\n",
    "A = 180\n",
    "b = A/math.sqrt(2) - A/2\n",
    "a = (A - 2*b)/2\n",
    "c = b * 2\n",
    "print(b)\n",
    "print(a)\n",
    "print(c)\n",
    "#Tính đoạn a trên cạnh A của hình vuông"
   ]
  }
 ],
 "metadata": {
  "kernelspec": {
   "display_name": "Python 3 (ipykernel)",
   "language": "python",
   "name": "python3"
  },
  "language_info": {
   "codemirror_mode": {
    "name": "ipython",
    "version": 3
   },
   "file_extension": ".py",
   "mimetype": "text/x-python",
   "name": "python",
   "nbconvert_exporter": "python",
   "pygments_lexer": "ipython3",
   "version": "3.9.6"
  }
 },
 "nbformat": 4,
 "nbformat_minor": 5
}
