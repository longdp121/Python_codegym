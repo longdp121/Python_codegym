{
 "cells": [
  {
   "cell_type": "code",
   "execution_count": 37,
   "id": "334dfc6d",
   "metadata": {},
   "outputs": [],
   "source": [
    "from tkinter import *\n",
    "\n",
    "w = Tk()\n",
    "w.geometry(\"400x300\")\n",
    "\n",
    "message_label = Label(w, text = \"Enter username and password to login\")\n",
    "\n",
    "username_label = Label(w, text = \"Username\")\n",
    "\n",
    "password_label = Label(w, text = \"Password\")\n",
    "\n",
    "name_entry = Entry(w)\n",
    "\n",
    "pass_entry = Entry(w)\n",
    "\n",
    "login_button = Button(w, text = \"Login\", command = None)\n",
    "\n",
    "w = mainloop()"
   ]
  },
  {
   "cell_type": "markdown",
   "id": "4c559a90",
   "metadata": {},
   "source": [
    "## pack"
   ]
  },
  {
   "cell_type": "code",
   "execution_count": 10,
   "id": "d6af98e3",
   "metadata": {},
   "outputs": [],
   "source": [
    "message_label.pack()\n",
    "username_label.pack()\n",
    "name_entry.pack()\n",
    "password_label.pack()\n",
    "pass_entry.pack()\n",
    "login_button.pack()"
   ]
  },
  {
   "cell_type": "markdown",
   "id": "0093b00d",
   "metadata": {},
   "source": [
    "## grid"
   ]
  },
  {
   "cell_type": "code",
   "execution_count": 30,
   "id": "d89cd306",
   "metadata": {},
   "outputs": [],
   "source": [
    "message_label.grid(column = 1, row = 0)\n",
    "username_label.grid(column = 0, row = 1)\n",
    "password_label.grid(column = 0, row = 2)\n",
    "name_entry.grid(column = 1, row = 1)\n",
    "pass_entry.grid(column = 1, row = 2)\n",
    "login_button.grid(column = 1, row = 3)"
   ]
  },
  {
   "cell_type": "markdown",
   "id": "f0a05577",
   "metadata": {},
   "source": [
    "## place"
   ]
  },
  {
   "cell_type": "code",
   "execution_count": 38,
   "id": "070e6374",
   "metadata": {},
   "outputs": [],
   "source": [
    "message_label.place(x=80, y=10)\n",
    "username_label.place(x=5, y=50)\n",
    "password_label.place(x=5, y=80)\n",
    "name_entry.place(x=70, y=50)\n",
    "pass_entry.place(x=70, y=80)\n",
    "login_button.place(x=100, y=120)\n"
   ]
  },
  {
   "cell_type": "code",
   "execution_count": 69,
   "id": "f2c5b848",
   "metadata": {},
   "outputs": [],
   "source": [
    "from tkinter import *\n",
    "from tkinter import ttk\n",
    "w = Tk()\n",
    "w.geometry(\"800x400\")\n",
    "w.title(\"Ingrediant\")\n",
    "\n",
    "#App body\n",
    "name_label = Label(w, text = \"Name:\") #placed\n",
    "\n",
    "quantity_label = Label(w, text = \"Quantity:\") #placed\n",
    "\n",
    "today_label = Label(w, text = \"Today, restaurant\") #placed\n",
    "\n",
    "name_entry = Entry(w)\n",
    "\n",
    "quantity_entry = Entry(w)\n",
    "\n",
    "search_entry = Entry(w) #placed\n",
    "\n",
    "add_button = Button(w, text = \"Add\", command = None, height = 1, width = 10)\n",
    "\n",
    "delete_button = Button(w, text = \"Delete\", command = None, height = 1, width = 10)\n",
    "\n",
    "reset_button = Button(w, text = \"Reset\", command = None, height = 1, width = 10)\n",
    "\n",
    "search_button = Button(w, text = \"Search\", command = None, height = 1, width = 10) #placed\n",
    "\n",
    "first_combobox = ttk.Combobox(w, width = 27, textvariable = None)\n",
    "\n",
    "second_combobox = ttk.Combobox(w, width = 27, textvariable = None)\n",
    "\n",
    "mid_entry = Entry(w)\n",
    "\n",
    "save_button = Button(w, text = \"Save\", command = None)\n",
    "\n",
    "#place\n",
    "name_label.place(x = 20, y = 10)\n",
    "quantity_label.place(x = 20, y = 30)\n",
    "add_button.place(x = 20, y = 50)\n",
    "search_entry.place(x = 20, y = 80)\n",
    "today_label.place(x = 20, y = 100)\n",
    "first_combobox.place(x = 150, y = 100)\n",
    "mid_entry.place(x = 350, y = 100)\n",
    "w = mainloop()"
   ]
  },
  {
   "cell_type": "code",
   "execution_count": 76,
   "id": "14e2de89",
   "metadata": {},
   "outputs": [],
   "source": [
    "from tkinter import *\n",
    "w = Tk()\n",
    "w.geometry(\"400x300\")\n",
    "m = Entry(w)\n",
    "m.pack()\n",
    "show = Label(w, text = m.get())\n",
    "show.pack()\n",
    "\n",
    "w = mainloop()"
   ]
  }
 ],
 "metadata": {
  "kernelspec": {
   "display_name": "Python 3 (ipykernel)",
   "language": "python",
   "name": "python3"
  },
  "language_info": {
   "codemirror_mode": {
    "name": "ipython",
    "version": 3
   },
   "file_extension": ".py",
   "mimetype": "text/x-python",
   "name": "python",
   "nbconvert_exporter": "python",
   "pygments_lexer": "ipython3",
   "version": "3.9.6"
  }
 },
 "nbformat": 4,
 "nbformat_minor": 5
}
