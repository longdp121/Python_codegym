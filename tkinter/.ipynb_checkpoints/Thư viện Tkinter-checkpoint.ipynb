{
 "cells": [
  {
   "cell_type": "markdown",
   "id": "7637b45d",
   "metadata": {},
   "source": [
    "# Tkinter"
   ]
  },
  {
   "cell_type": "markdown",
   "id": "aef48c70",
   "metadata": {},
   "source": [
    "## Tkinter là gì?\n",
    "Tkinter là thư viện GUI tiêu chuẩn cho Python."
   ]
  },
  {
   "cell_type": "markdown",
   "id": "a555c9c5",
   "metadata": {},
   "source": [
    "## Các bước tạo ứng dụng Tkinter\n",
    "**Bước 1:** Import Tkinter module\n",
    "\n",
    "**Bước 2:** Tạo ra cửa số chính cho ứng dụng \n",
    "\n",
    "**Bước 3:** Thêm một số widget cho ứng dụng\n",
    "\n",
    "**Bước 4:** Tạo vòng lặp sự kiện chính để các hành động có thể diễn ra trên màn hình máy tính của người dùng\n"
   ]
  },
  {
   "cell_type": "markdown",
   "id": "f5a0f4e8",
   "metadata": {},
   "source": [
    "## Import Tkinter module"
   ]
  },
  {
   "cell_type": "code",
   "execution_count": 2,
   "id": "28a5f795",
   "metadata": {},
   "outputs": [
    {
     "ename": "NameError",
     "evalue": "name 'num1' is not defined",
     "output_type": "error",
     "traceback": [
      "\u001b[1;31m---------------------------------------------------------------------------\u001b[0m",
      "\u001b[1;31mNameError\u001b[0m                                 Traceback (most recent call last)",
      "\u001b[1;32m~\\AppData\\Local\\Temp/ipykernel_5580/2313243338.py\u001b[0m in \u001b[0;36m<module>\u001b[1;34m\u001b[0m\n\u001b[0;32m     14\u001b[0m \u001b[0mnumber2\u001b[0m \u001b[1;33m=\u001b[0m \u001b[0mEntry\u001b[0m\u001b[1;33m(\u001b[0m\u001b[0mw\u001b[0m\u001b[1;33m)\u001b[0m\u001b[1;33m\u001b[0m\u001b[1;33m\u001b[0m\u001b[0m\n\u001b[0;32m     15\u001b[0m \u001b[1;33m\u001b[0m\u001b[0m\n\u001b[1;32m---> 16\u001b[1;33m \u001b[1;32mwhile\u001b[0m \u001b[1;33m(\u001b[0m\u001b[0mnum1\u001b[0m\u001b[1;33m.\u001b[0m\u001b[0mget\u001b[0m\u001b[1;33m(\u001b[0m\u001b[1;33m)\u001b[0m\u001b[1;33m)\u001b[0m\u001b[1;33m.\u001b[0m\u001b[0misdigit\u001b[0m\u001b[1;33m(\u001b[0m\u001b[1;33m)\u001b[0m \u001b[1;33m==\u001b[0m \u001b[1;32mFalse\u001b[0m \u001b[1;32mand\u001b[0m \u001b[1;33m(\u001b[0m\u001b[0mnum2\u001b[0m\u001b[1;33m.\u001b[0m\u001b[0mget\u001b[0m\u001b[1;33m(\u001b[0m\u001b[1;33m)\u001b[0m\u001b[1;33m)\u001b[0m\u001b[1;33m.\u001b[0m\u001b[0misdigit\u001b[0m\u001b[1;33m(\u001b[0m\u001b[1;33m)\u001b[0m \u001b[1;33m==\u001b[0m \u001b[1;32mFalse\u001b[0m\u001b[1;33m:\u001b[0m\u001b[1;33m\u001b[0m\u001b[1;33m\u001b[0m\u001b[0m\n\u001b[0m\u001b[0;32m     17\u001b[0m     \u001b[0mnumber1\u001b[0m \u001b[1;33m=\u001b[0m \u001b[0mEntry\u001b[0m\u001b[1;33m(\u001b[0m\u001b[0mw\u001b[0m\u001b[1;33m)\u001b[0m\u001b[1;33m\u001b[0m\u001b[1;33m\u001b[0m\u001b[0m\n\u001b[0;32m     18\u001b[0m     \u001b[0mnumber2\u001b[0m \u001b[1;33m=\u001b[0m \u001b[0mEntry\u001b[0m\u001b[1;33m(\u001b[0m\u001b[0mw\u001b[0m\u001b[1;33m)\u001b[0m\u001b[1;33m\u001b[0m\u001b[1;33m\u001b[0m\u001b[0m\n",
      "\u001b[1;31mNameError\u001b[0m: name 'num1' is not defined"
     ]
    }
   ],
   "source": [
    "from tkinter import *\n",
    "#from tkinter import messagebox\n",
    "w = Tk()\n",
    "w.geometry(\"400x300\")\n",
    "\n",
    "#Ten cua so\n",
    "w.title(\"My apppppppppppppppppppppp\")\n",
    "\n",
    "#Tieu de\n",
    "entry_txt = Label(w, text = \"May tinh bo tui\")\n",
    "entry_txt.pack()\n",
    "\n",
    "number1 = Entry(w)\n",
    "number2 = Entry(w)\n",
    "\n",
    "while (num1.get()).isdigit() == False and (num2.get()).isdigit() == False:\n",
    "    number1 = Entry(w)\n",
    "    number2 = Entry(w)\n",
    "\n",
    "number1.pack()\n",
    "number2.pack()\n",
    "\n",
    "def plus():  #Ham cong\n",
    "    result = int(number1.get()) + int(number2.get())\n",
    "    result_txt.config(text = result)\n",
    "plus_button = Button(w, text = \"+\", command = plus)\n",
    "plus_button.pack()\n",
    "\n",
    "def sub():  #Ham tru\n",
    "    result = int(number1.get()) - int(number2.get())\n",
    "    result_txt.config(text = result)\n",
    "sub_button = Button(w, text = \"-\", command = sub, height = \"1\", width = \"1\")\n",
    "sub_button.pack()\n",
    "\n",
    "def mul():  #Ham nhan\n",
    "    result = int(number1.get()) * int(number2.get())\n",
    "    result_txt.config(text = result)\n",
    "mul_button = Button(w, text = \"*\", command = mul)\n",
    "mul_button.pack()\n",
    "\n",
    "def de():  #Ham chia\n",
    "    result = int(number1.get()) / int(number2.get())\n",
    "    result_txt.config(text = result)\n",
    "de_button = Button(w, text = \"/\", command = de)\n",
    "de_button.pack()\n",
    "\n",
    "result_txt = Label(w, text = \"\")\n",
    "result_txt.pack()\n",
    "\n",
    "w.mainloop()"
   ]
  },
  {
   "cell_type": "code",
   "execution_count": null,
   "id": "57f6b210",
   "metadata": {},
   "outputs": [],
   "source": []
  },
  {
   "cell_type": "markdown",
   "id": "50cf878f",
   "metadata": {},
   "source": [
    "## label"
   ]
  },
  {
   "cell_type": "code",
   "execution_count": null,
   "id": "6826b7e0",
   "metadata": {},
   "outputs": [],
   "source": [
    "'''\n",
    "app_name = Label(w, text = \"Demo Widget\")\n",
    "app_name.pack()\n",
    "label_tetx = Label(w, text = \"Label\")\n",
    "label_tetx.pack()\n",
    "'''\n"
   ]
  },
  {
   "cell_type": "markdown",
   "id": "fbf4ab01",
   "metadata": {},
   "source": [
    "## entry"
   ]
  },
  {
   "cell_type": "code",
   "execution_count": null,
   "id": "a8dea346",
   "metadata": {},
   "outputs": [],
   "source": []
  },
  {
   "cell_type": "markdown",
   "id": "220d3157",
   "metadata": {},
   "source": [
    "## button"
   ]
  },
  {
   "cell_type": "code",
   "execution_count": null,
   "id": "4376bd13",
   "metadata": {},
   "outputs": [],
   "source": [
    "def update_app():\n",
    "    '''\n",
    "    Hàm mô tả hành động của nút\n",
    "    '''\n",
    "    app_name.config(text = \"Pyhton Fun\")\n",
    "change_text_button = Button(w, text = \"Click to update\", command = update_app)\n",
    "change_text_button.pack()"
   ]
  },
  {
   "cell_type": "markdown",
   "id": "8bd06b13",
   "metadata": {},
   "source": [
    "## combobox"
   ]
  },
  {
   "cell_type": "code",
   "execution_count": null,
   "id": "74694770",
   "metadata": {},
   "outputs": [],
   "source": [
    "# Combobox creation\n",
    "n = tk.StringVar()\n",
    "monthchoosen = ttk.Combobox(window, width = 27, textvariable = n)\n",
    "  \n",
    "# Adding combobox drop down list\n",
    "monthchoosen['values'] = (' January', \n",
    "                          ' February',\n",
    "                          ' March',\n",
    "                          ' April',\n",
    "                          ' May',\n",
    "                          ' June',\n",
    "                          ' July',\n",
    "                          ' August',\n",
    "                          ' September',\n",
    "                          ' October',\n",
    "                          ' November',\n",
    "                          ' December')\n",
    "  \n",
    "monthchoosen.grid(column = 1, row = 5)\n",
    "monthchoosen.current()\n"
   ]
  },
  {
   "cell_type": "markdown",
   "id": "f5203893",
   "metadata": {},
   "source": [
    "## text"
   ]
  },
  {
   "cell_type": "code",
   "execution_count": null,
   "id": "f822f455",
   "metadata": {},
   "outputs": [],
   "source": []
  },
  {
   "cell_type": "markdown",
   "id": "7b58544c",
   "metadata": {},
   "source": [
    "## messagebox"
   ]
  },
  {
   "cell_type": "code",
   "execution_count": null,
   "id": "d721e682",
   "metadata": {},
   "outputs": [],
   "source": [
    "#from tkinter import mesagebox\n",
    "\n",
    "#show infor messagebox\n",
    "#Syntax: messagebox.showinfor(Title = \"\", message = \"\")\n",
    "#messagebox.showinfo('Đây là messagebox', 'Show info')\n",
    "\n",
    "#Warning messagebox\n",
    "#Syntax: messagebox.showwarning/showerror(Title = \" \", message = \" \")\n",
    "#messagebox.showwarning('Đây là messagebox', 'Show warning')\n",
    "#messagebox.showerror('Đây là messagebox', 'ERROR!')\n",
    "\n",
    "#Question messagebox\n",
    "#Asking yes/no question and return the same\n",
    "ask = messagebox.askquestion('Đây là messagebox', 'Bạn có học Python không?')\n",
    "if ask == \"yes\":\n",
    "    messagebox.showinfo('Bạn có học Python không?', 'Có!')\n",
    "else:\n",
    "    messagebox.showinfo('Bạn có học python không?', 'Không')\n"
   ]
  },
  {
   "cell_type": "markdown",
   "id": "eebac94e",
   "metadata": {},
   "source": [
    "## checkbutton"
   ]
  },
  {
   "cell_type": "code",
   "execution_count": null,
   "id": "1e534acb",
   "metadata": {},
   "outputs": [],
   "source": [
    "CheckVar1 = IntVar()\n",
    "CheckVar2 = IntVar()\n",
    "C1 = Checkbutton(windows, text = \"Music\", selectcolor = \"red\", variable = CheckVar1, \\\n",
    "                 onvalue = 1, offvalue = 0, height=5, \\\n",
    "                 width = 20, )\n",
    "C2 = Checkbutton(windows, text = \"Video\", selectcolor = \"yellow\", variable = CheckVar2, \\\n",
    "                 onvalue = 1, offvalue = 0, height=5, \\\n",
    "                 width = 20)\n",
    "C1.pack()\n",
    "C2.pack()\n",
    "top.mainloop()\n"
   ]
  }
 ],
 "metadata": {
  "kernelspec": {
   "display_name": "Python 3 (ipykernel)",
   "language": "python",
   "name": "python3"
  },
  "language_info": {
   "codemirror_mode": {
    "name": "ipython",
    "version": 3
   },
   "file_extension": ".py",
   "mimetype": "text/x-python",
   "name": "python",
   "nbconvert_exporter": "python",
   "pygments_lexer": "ipython3",
   "version": "3.9.6"
  }
 },
 "nbformat": 4,
 "nbformat_minor": 5
}
