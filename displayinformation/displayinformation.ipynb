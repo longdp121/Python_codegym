{
 "cells": [
  {
   "cell_type": "code",
   "execution_count": 1,
   "id": "662db1a9",
   "metadata": {},
   "outputs": [
    {
     "name": "stdout",
     "output_type": "stream",
     "text": [
      "Full name: Dao Phi Long\n",
      "D.O.B: 12 January 2020\n",
      "Address: Hanoi\n",
      "Study goal: Become a python developer\n"
     ]
    }
   ],
   "source": [
    "print(\"Full name: Dao Phi Long\")\n",
    "print(\"D.O.B: 12 January 2020\")\n",
    "print(\"Address: Hanoi\")\n",
    "print(\"Study goal: Become a python developer\")"
   ]
  }
 ],
 "metadata": {
  "kernelspec": {
   "display_name": "Python 3 (ipykernel)",
   "language": "python",
   "name": "python3"
  },
  "language_info": {
   "codemirror_mode": {
    "name": "ipython",
    "version": 3
   },
   "file_extension": ".py",
   "mimetype": "text/x-python",
   "name": "python",
   "nbconvert_exporter": "python",
   "pygments_lexer": "ipython3",
   "version": "3.9.6"
  }
 },
 "nbformat": 4,
 "nbformat_minor": 5
}
